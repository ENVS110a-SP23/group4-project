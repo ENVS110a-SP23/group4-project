{
 "cells": [
  {
   "cell_type": "code",
   "execution_count": 74,
   "metadata": {},
   "outputs": [],
   "source": [
    "import pandas as pd \n",
    "data_dir = '/Users/liamzeeum/Desktop/ENVS 110/Group Project/'\n",
    "excel = data_dir + 'labdatamain-8-23-2022.xlsx'\n",
    "df = pd.read_excel(excel)  #reading in data\n",
    "watersheds = ['Charles', 'Boston Harbor', 'Shawsheen', 'South Coastal']\n",
    "nutrients = ['Total Phosphorous', 'Total Nitrogen', 'Ammonia-N', 'Nitrate/Nitrite-N']\n",
    "df_nutrients = df.loc[(df['DWM_Name'].isin(nutrients))]\n",
    "df_nutrients_watersheds = df_nutrients.loc[(df_nutrients['Watershed'].isin(watersheds))]\n",
    "relevant_columns = ['Watershed', 'Latitude', 'Longitude', 'DWM_Name', 'StartDate', 'StartTime', 'DWM_Units', 'ResVal', 'nResult']\n",
    "\n",
    "df_nutrients_watersheds = df_nutrients_watersheds.drop([col for col in df_nutrients_watersheds.columns if col not in relevant_columns], axis=1)\n"
   ]
  },
  {
   "attachments": {},
   "cell_type": "markdown",
   "metadata": {},
   "source": [
    "This code imports our data and labels it as df.\n",
    "Then it creates two lists. The watersheds list includes the names of all the watersheds surrounding Boston. The second list includes the names of the relvant nutrients to our project. \n",
    "This code then creates a subset of the main df called df_nutrients which only includes rows with that include the relvant nutrients in their nutrient (DWM_Name) column and labels it df_nutrients.\n",
    "Then it creates a subset of df_nutrients that only includes the rows that have a relvant watershed value in their Watershed column, and labels this new subset df_nutrients_watershed.\n",
    "Then this code creates a list of columns that contain information relevant to our project and drops all columns from df_nutrients_watersheds that are not in that list."
   ]
  },
  {
   "cell_type": "code",
   "execution_count": 76,
   "metadata": {},
   "outputs": [
    {
     "data": {
      "text/plain": [
       "Watershed    False\n",
       "Latitude     False\n",
       "Longitude    False\n",
       "StartDate    False\n",
       "StartTime    False\n",
       "DWM_Name     False\n",
       "DWM_Units    False\n",
       "ResVal       False\n",
       "nResult       True\n",
       "dtype: bool"
      ]
     },
     "execution_count": 76,
     "metadata": {},
     "output_type": "execute_result"
    }
   ],
   "source": [
    "df_nutrients_watersheds.isnull().any()"
   ]
  },
  {
   "attachments": {},
   "cell_type": "markdown",
   "metadata": {},
   "source": [
    "This code tells us if there is any missing data in our data frame. This tells me that there is at least one missing data point in the nResult column."
   ]
  },
  {
   "cell_type": "code",
   "execution_count": 79,
   "metadata": {},
   "outputs": [],
   "source": [
    "df_nutrients_watersheds = df_nutrients_watersheds.loc[~df_nutrients_watersheds.isnull().any(axis=1),:].reset_index(drop=True)"
   ]
  },
  {
   "attachments": {},
   "cell_type": "markdown",
   "metadata": {},
   "source": [
    "This code removes any rows that have missing data and resets the row numbers to go start at 1"
   ]
  },
  {
   "cell_type": "markdown",
   "metadata": {},
   "source": []
  },
  {
   "cell_type": "code",
   "execution_count": 80,
   "metadata": {},
   "outputs": [
    {
     "data": {
      "text/plain": [
       "Watershed    False\n",
       "Latitude     False\n",
       "Longitude    False\n",
       "StartDate    False\n",
       "StartTime    False\n",
       "DWM_Name     False\n",
       "DWM_Units    False\n",
       "ResVal       False\n",
       "nResult      False\n",
       "dtype: bool"
      ]
     },
     "execution_count": 80,
     "metadata": {},
     "output_type": "execute_result"
    }
   ],
   "source": [
    "df_nutrients_watersheds.isnull().any()"
   ]
  },
  {
   "attachments": {},
   "cell_type": "markdown",
   "metadata": {},
   "source": [
    "This code checks to see if the last line worked. It did!\n"
   ]
  },
  {
   "cell_type": "code",
   "execution_count": 97,
   "metadata": {},
   "outputs": [
    {
     "name": "stdout",
     "output_type": "stream",
     "text": [
      "nitrogen\n",
      "mean: 1.09687374749499\n",
      "max: 9.9\n",
      "min: -0.04\n",
      "SD: 1.0036534897073748\n"
     ]
    }
   ],
   "source": [
    "df_nitrogen= df_nutrients_watersheds.loc[df_nutrients_watersheds['DWM_Name']== 'Total Nitrogen']\n",
    "nitrogen_mean = df_nitrogen['nResult'].mean()\n",
    "nitrogen_max = df_nitrogen['nResult'].max()\n",
    "nitrogen_min = df_nitrogen['nResult'].min()\n",
    "nitrogen_sd = df_nitrogen['nResult'].std()\n",
    "print('nitrogen',)\n",
    "print('mean:', nitrogen_mean)\n",
    "print('max:', nitrogen_max)\n",
    "print('min:', nitrogen_min)\n",
    "print('SD:', nitrogen_sd)\n"
   ]
  },
  {
   "attachments": {},
   "cell_type": "markdown",
   "metadata": {},
   "source": [
    "This code creates a data frame containing only the rows that measure nitrogen and then finds the summary statistics of all those nitrogen measurements. A curious thing to note is that there is a Nitrogen measurement of -.04. This is odd and deserves further attention."
   ]
  },
  {
   "cell_type": "code",
   "execution_count": 95,
   "metadata": {},
   "outputs": [
    {
     "data": {
      "text/plain": [
       "0.05562836185819067"
      ]
     },
     "execution_count": 95,
     "metadata": {},
     "output_type": "execute_result"
    }
   ],
   "source": [
    "df_ammonia= df_nutrients_watersheds.loc[df_nutrients_watersheds['DWM_Name']== 'Ammonia-N']\n",
    "Ammonia_mean = df_ammonia['nResult'].mean()\n",
    "Ammonia_mean"
   ]
  },
  {
   "attachments": {},
   "cell_type": "markdown",
   "metadata": {},
   "source": [
    "This code allows the same to be done for Ammonia in our dataset."
   ]
  },
  {
   "cell_type": "code",
   "execution_count": 96,
   "metadata": {},
   "outputs": [
    {
     "data": {
      "text/plain": [
       "0.6230327868852459"
      ]
     },
     "execution_count": 96,
     "metadata": {},
     "output_type": "execute_result"
    }
   ],
   "source": [
    "df_nitrate_nitrite =df_nutrients_watersheds.loc[df_nutrients_watersheds['DWM_Name']== 'Nitrate/Nitrite-N']\n",
    "nitrate_nitrite_mean = df_nitrate_nitrite['nResult'].mean()\n",
    "\n",
    "nitrate_nitrite_mean"
   ]
  },
  {
   "cell_type": "code",
   "execution_count": 101,
   "metadata": {},
   "outputs": [
    {
     "data": {
      "text/plain": [
       "Text(0.5, 1.0, 'Nitrogren levels Across Time')"
      ]
     },
     "execution_count": 101,
     "metadata": {},
     "output_type": "execute_result"
    },
    {
     "data": {
      "image/png": "[encoded data removed]",
      "text/plain": [
       "<Figure size 640x480 with 1 Axes>"
      ]
     },
     "metadata": {},
     "output_type": "display_data"
    }
   ],
   "source": [
    "import matplotlib.pyplot as plt\n",
    "\n",
    "figure, ax = plt.subplots()\n",
    "ax.plot(df_nitrogen['StartDate'], df_nitrogen['nResult'], color = 'Blue')\n",
    "ax.set_xlabel('Date')\n",
    "ax.set_ylabel('mg/L')\n",
    "ax.set_title(\"Nitrogren levels Across Time\")"
   ]
  },
  {
   "attachments": {},
   "cell_type": "markdown",
   "metadata": {},
   "source": [
    "Here is a graph that needs some work of Nitrogen measurements across our entire dataframe from earliest to latest."
   ]
  },
  {
   "cell_type": "code",
   "execution_count": 98,
   "metadata": {},
   "outputs": [],
   "source": [
    "data_dir = '/Users/liamzeeum/Desktop/ENVS 110/Group Project/'\n",
    "urban_farm_data = data_dir + 'Urban_Farm_Location_Data.xlsx'\n",
    "urban_farm_data_df = pd.read_excel(urban_farm_data)\n",
    "\n"
   ]
  },
  {
   "attachments": {},
   "cell_type": "markdown",
   "metadata": {},
   "source": [
    "This code imports the data set of Urban Farm locations in Boston compiled by us."
   ]
  }
 ],
 "metadata": {
  "kernelspec": {
   "display_name": "base",
   "language": "python",
   "name": "python3"
  },
  "language_info": {
   "codemirror_mode": {
    "name": "ipython",
    "version": 3
   },
   "file_extension": ".py",
   "mimetype": "text/x-python",
   "name": "python",
   "nbconvert_exporter": "python",
   "pygments_lexer": "ipython3",
   "version": "3.9.13"
  },
  "orig_nbformat": 4
 },
 "nbformat": 4,
 "nbformat_minor": 2
}
