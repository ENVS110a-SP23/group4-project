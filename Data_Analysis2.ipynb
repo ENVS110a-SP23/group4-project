{
 "cells": [
  {
   "cell_type": "code",
   "execution_count": 44,
   "metadata": {},
   "outputs": [
    {
     "data": {
      "text/html": [
       "<div>\n",
       "<style scoped>\n",
       "    .dataframe tbody tr th:only-of-type {\n",
       "        vertical-align: middle;\n",
       "    }\n",
       "\n",
       "    .dataframe tbody tr th {\n",
       "        vertical-align: top;\n",
       "    }\n",
       "\n",
       "    .dataframe thead th {\n",
       "        text-align: right;\n",
       "    }\n",
       "</style>\n",
       "<table border=\"1\" class=\"dataframe\">\n",
       "  <thead>\n",
       "    <tr style=\"text-align: right;\">\n",
       "      <th></th>\n",
       "      <th>Watershed</th>\n",
       "      <th>Latitude</th>\n",
       "      <th>Longitude</th>\n",
       "      <th>StartDate</th>\n",
       "      <th>StartTime</th>\n",
       "      <th>DWM_Name</th>\n",
       "      <th>DWM_Units</th>\n",
       "      <th>ResVal</th>\n",
       "      <th>nResult</th>\n",
       "    </tr>\n",
       "  </thead>\n",
       "  <tbody>\n",
       "    <tr>\n",
       "      <th>0</th>\n",
       "      <td>South Coastal</td>\n",
       "      <td>42.160283</td>\n",
       "      <td>-70.788634</td>\n",
       "      <td>6/25/2019</td>\n",
       "      <td>1:10:00 PM</td>\n",
       "      <td>Ammonia-N</td>\n",
       "      <td>mg/L</td>\n",
       "      <td>&lt;0.20</td>\n",
       "      <td>-0.200</td>\n",
       "    </tr>\n",
       "    <tr>\n",
       "      <th>1</th>\n",
       "      <td>South Coastal</td>\n",
       "      <td>42.160283</td>\n",
       "      <td>-70.788634</td>\n",
       "      <td>6/25/2019</td>\n",
       "      <td>1:10:00 PM</td>\n",
       "      <td>Nitrate/Nitrite-N</td>\n",
       "      <td>mg/L</td>\n",
       "      <td>&lt;0.20</td>\n",
       "      <td>-0.200</td>\n",
       "    </tr>\n",
       "    <tr>\n",
       "      <th>2</th>\n",
       "      <td>South Coastal</td>\n",
       "      <td>42.160283</td>\n",
       "      <td>-70.788634</td>\n",
       "      <td>6/25/2019</td>\n",
       "      <td>1:10:00 PM</td>\n",
       "      <td>Total Nitrogen</td>\n",
       "      <td>mg/L</td>\n",
       "      <td>0.77</td>\n",
       "      <td>0.770</td>\n",
       "    </tr>\n",
       "    <tr>\n",
       "      <th>3</th>\n",
       "      <td>South Coastal</td>\n",
       "      <td>42.160283</td>\n",
       "      <td>-70.788634</td>\n",
       "      <td>6/25/2019</td>\n",
       "      <td>1:10:00 PM</td>\n",
       "      <td>Total Phosphorus</td>\n",
       "      <td>mg/L</td>\n",
       "      <td>0.056</td>\n",
       "      <td>0.056</td>\n",
       "    </tr>\n",
       "    <tr>\n",
       "      <th>4</th>\n",
       "      <td>South Coastal</td>\n",
       "      <td>42.187649</td>\n",
       "      <td>-70.768508</td>\n",
       "      <td>6/25/2019</td>\n",
       "      <td>1:50:00 PM</td>\n",
       "      <td>Ammonia-N</td>\n",
       "      <td>mg/L</td>\n",
       "      <td>&lt;0.20</td>\n",
       "      <td>-0.200</td>\n",
       "    </tr>\n",
       "  </tbody>\n",
       "</table>\n",
       "</div>"
      ],
      "text/plain": [
       "       Watershed   Latitude  Longitude  StartDate   StartTime  \\\n",
       "0  South Coastal  42.160283 -70.788634  6/25/2019  1:10:00 PM   \n",
       "1  South Coastal  42.160283 -70.788634  6/25/2019  1:10:00 PM   \n",
       "2  South Coastal  42.160283 -70.788634  6/25/2019  1:10:00 PM   \n",
       "3  South Coastal  42.160283 -70.788634  6/25/2019  1:10:00 PM   \n",
       "4  South Coastal  42.187649 -70.768508  6/25/2019  1:50:00 PM   \n",
       "\n",
       "            DWM_Name DWM_Units ResVal  nResult  \n",
       "0          Ammonia-N      mg/L  <0.20   -0.200  \n",
       "1  Nitrate/Nitrite-N      mg/L  <0.20   -0.200  \n",
       "2     Total Nitrogen      mg/L   0.77    0.770  \n",
       "3   Total Phosphorus      mg/L  0.056    0.056  \n",
       "4          Ammonia-N      mg/L  <0.20   -0.200  "
      ]
     },
     "execution_count": 44,
     "metadata": {},
     "output_type": "execute_result"
    }
   ],
   "source": [
    "import pandas as pd\n",
    "import matplotlib.pyplot as plt\n",
    "import numpy as np\n",
    "import scipy.stats as stats\n",
    "\n",
    "df = pd.read_excel('/Users/liamzeeum/Github/group4-project/Cleaned_Data.xlsx')\n",
    "df.head()"
   ]
  },
  {
   "cell_type": "code",
   "execution_count": 45,
   "metadata": {},
   "outputs": [],
   "source": [
    "df_copy= df.copy()\n",
    "\n",
    "df_copy['StartDate'] = pd.to_datetime(df_copy['StartDate'], format='%m/%d/%Y')"
   ]
  },
  {
   "attachments": {},
   "cell_type": "markdown",
   "metadata": {},
   "source": [
    "I'm just adding a dummy variable that = 1 if the sample was taken after 2013 in the code below - Liam"
   ]
  },
  {
   "cell_type": "code",
   "execution_count": 46,
   "metadata": {},
   "outputs": [],
   "source": [
    "for i, row in df_copy.iterrows():\n",
    "    if row['StartDate'].year >= 2013:\n",
    "        df_copy.loc[i, 'dummy_variable'] = 1\n",
    "    else:\n",
    "        df_copy.loc[i, 'dummy_variable'] = 0"
   ]
  },
  {
   "attachments": {},
   "cell_type": "markdown",
   "metadata": {},
   "source": [
    "Here I'm copying in my Haversine formula addition to the dataframe so we can run distance regressions in here - Liam"
   ]
  },
  {
   "cell_type": "code",
   "execution_count": 60,
   "metadata": {},
   "outputs": [
    {
     "data": {
      "text/html": [
       "<div>\n",
       "<style scoped>\n",
       "    .dataframe tbody tr th:only-of-type {\n",
       "        vertical-align: middle;\n",
       "    }\n",
       "\n",
       "    .dataframe tbody tr th {\n",
       "        vertical-align: top;\n",
       "    }\n",
       "\n",
       "    .dataframe thead th {\n",
       "        text-align: right;\n",
       "    }\n",
       "</style>\n",
       "<table border=\"1\" class=\"dataframe\">\n",
       "  <thead>\n",
       "    <tr style=\"text-align: right;\">\n",
       "      <th></th>\n",
       "      <th>Watershed</th>\n",
       "      <th>Latitude</th>\n",
       "      <th>Longitude</th>\n",
       "      <th>StartDate</th>\n",
       "      <th>StartTime</th>\n",
       "      <th>DWM_Name</th>\n",
       "      <th>DWM_Units</th>\n",
       "      <th>ResVal</th>\n",
       "      <th>nResult</th>\n",
       "      <th>dummy_variable</th>\n",
       "      <th>closest_farm_distance_km</th>\n",
       "    </tr>\n",
       "  </thead>\n",
       "  <tbody>\n",
       "    <tr>\n",
       "      <th>0</th>\n",
       "      <td>South Coastal</td>\n",
       "      <td>42.160283</td>\n",
       "      <td>-70.788634</td>\n",
       "      <td>2019-06-25</td>\n",
       "      <td>1:10:00 PM</td>\n",
       "      <td>Ammonia-N</td>\n",
       "      <td>mg/L</td>\n",
       "      <td>&lt;0.20</td>\n",
       "      <td>-0.200</td>\n",
       "      <td>1.0</td>\n",
       "      <td>27.900587</td>\n",
       "    </tr>\n",
       "    <tr>\n",
       "      <th>1</th>\n",
       "      <td>South Coastal</td>\n",
       "      <td>42.160283</td>\n",
       "      <td>-70.788634</td>\n",
       "      <td>2019-06-25</td>\n",
       "      <td>1:10:00 PM</td>\n",
       "      <td>Nitrate/Nitrite-N</td>\n",
       "      <td>mg/L</td>\n",
       "      <td>&lt;0.20</td>\n",
       "      <td>-0.200</td>\n",
       "      <td>1.0</td>\n",
       "      <td>27.900587</td>\n",
       "    </tr>\n",
       "    <tr>\n",
       "      <th>2</th>\n",
       "      <td>South Coastal</td>\n",
       "      <td>42.160283</td>\n",
       "      <td>-70.788634</td>\n",
       "      <td>2019-06-25</td>\n",
       "      <td>1:10:00 PM</td>\n",
       "      <td>Total Nitrogen</td>\n",
       "      <td>mg/L</td>\n",
       "      <td>0.77</td>\n",
       "      <td>0.770</td>\n",
       "      <td>1.0</td>\n",
       "      <td>27.900587</td>\n",
       "    </tr>\n",
       "    <tr>\n",
       "      <th>3</th>\n",
       "      <td>South Coastal</td>\n",
       "      <td>42.160283</td>\n",
       "      <td>-70.788634</td>\n",
       "      <td>2019-06-25</td>\n",
       "      <td>1:10:00 PM</td>\n",
       "      <td>Total Phosphorus</td>\n",
       "      <td>mg/L</td>\n",
       "      <td>0.056</td>\n",
       "      <td>0.056</td>\n",
       "      <td>1.0</td>\n",
       "      <td>27.900587</td>\n",
       "    </tr>\n",
       "    <tr>\n",
       "      <th>4</th>\n",
       "      <td>South Coastal</td>\n",
       "      <td>42.187649</td>\n",
       "      <td>-70.768508</td>\n",
       "      <td>2019-06-25</td>\n",
       "      <td>1:50:00 PM</td>\n",
       "      <td>Ammonia-N</td>\n",
       "      <td>mg/L</td>\n",
       "      <td>&lt;0.20</td>\n",
       "      <td>-0.200</td>\n",
       "      <td>1.0</td>\n",
       "      <td>28.037568</td>\n",
       "    </tr>\n",
       "  </tbody>\n",
       "</table>\n",
       "</div>"
      ],
      "text/plain": [
       "       Watershed   Latitude  Longitude  StartDate   StartTime  \\\n",
       "0  South Coastal  42.160283 -70.788634 2019-06-25  1:10:00 PM   \n",
       "1  South Coastal  42.160283 -70.788634 2019-06-25  1:10:00 PM   \n",
       "2  South Coastal  42.160283 -70.788634 2019-06-25  1:10:00 PM   \n",
       "3  South Coastal  42.160283 -70.788634 2019-06-25  1:10:00 PM   \n",
       "4  South Coastal  42.187649 -70.768508 2019-06-25  1:50:00 PM   \n",
       "\n",
       "            DWM_Name DWM_Units ResVal  nResult  dummy_variable  \\\n",
       "0          Ammonia-N      mg/L  <0.20   -0.200             1.0   \n",
       "1  Nitrate/Nitrite-N      mg/L  <0.20   -0.200             1.0   \n",
       "2     Total Nitrogen      mg/L   0.77    0.770             1.0   \n",
       "3   Total Phosphorus      mg/L  0.056    0.056             1.0   \n",
       "4          Ammonia-N      mg/L  <0.20   -0.200             1.0   \n",
       "\n",
       "   closest_farm_distance_km  \n",
       "0                 27.900587  \n",
       "1                 27.900587  \n",
       "2                 27.900587  \n",
       "3                 27.900587  \n",
       "4                 28.037568  "
      ]
     },
     "execution_count": 60,
     "metadata": {},
     "output_type": "execute_result"
    }
   ],
   "source": [
    "from math import radians, cos, sin, asin, sqrt\n",
    "\n",
    "urbanfarm_df = pd.read_excel('/Users/liamzeeum/Github/group4-project/Urban Farm Location Data.xlsx')\n",
    "\n",
    "def haversine(lat1, lon1, lat2, lon2):\n",
    "    lat1, lon1, lat2, lon2 = map(radians, [lat1, lon1, lat2, lon2])\n",
    "\n",
    "    distance_lon = lon2-lon1\n",
    "    distance_lat = lat2-lat1\n",
    "    a = sin(distance_lat/2)**2 + cos(lat1) * cos(lat2) * sin(distance_lon/2)**2\n",
    "    c = 2 * asin(sqrt(a))\n",
    "    km = 6367 * c\n",
    "    return km\n",
    "\n",
    "distances = []\n",
    "for i, sample in df_copy.iterrows():\n",
    "    min_distance = np.inf\n",
    "    for j, farm in urbanfarm_df.iterrows():\n",
    "        distance = haversine(sample['Latitude'], sample['Longitude'], farm['Latitude'], farm['Longitude'])\n",
    "        if distance < min_distance:\n",
    "            min_distance=distance\n",
    "    distances.append(min_distance)\n",
    "\n",
    "df_copy['closest_farm_distance_km'] = distances\n",
    "\n",
    "df_copy.head()"
   ]
  },
  {
   "attachments": {},
   "cell_type": "markdown",
   "metadata": {},
   "source": [
    "**Nitrogen:**\n",
    "\n",
    "I used the nitrogen subsets made by Liam in \"Revisualization\" and ran them as a two-sample t-test. With a pval of 0.005 that's smaller than any reasonable signifcance level, it seems that nitrogen levels pre-2013 are significantly greater than nitrogen levels post_2013. However, this doesn't account for regional differences or distance from farms. "
   ]
  },
  {
   "cell_type": "code",
   "execution_count": 62,
   "metadata": {},
   "outputs": [
    {
     "data": {
      "text/plain": [
       "Ttest_indResult(statistic=2.7338781929763725, pvalue=0.0064419014317596964)"
      ]
     },
     "execution_count": 62,
     "metadata": {},
     "output_type": "execute_result"
    }
   ],
   "source": [
    "nitrogen_pre2013_df = df_copy.loc[(df_copy['StartDate'].dt.year<2013) & (df_copy['DWM_Name'] == 'Total Nitrogen')]\n",
    "nitrogen_post2013_df = df_copy.loc[(df_copy['StartDate'].dt.year>=2013) & (df_copy['DWM_Name'] == 'Total Nitrogen')]\n",
    "\n",
    "stats.ttest_ind(nitrogen_pre2013_df['nResult'], nitrogen_post2013_df['nResult'], alternative='two-sided')"
   ]
  },
  {
   "cell_type": "code",
   "execution_count": 63,
   "metadata": {},
   "outputs": [
    {
     "data": {
      "text/plain": [
       "0.848504672897196"
      ]
     },
     "execution_count": 63,
     "metadata": {},
     "output_type": "execute_result"
    }
   ],
   "source": [
    "nitrogen_post2013_df['nResult'].mean()"
   ]
  },
  {
   "attachments": {},
   "cell_type": "markdown",
   "metadata": {},
   "source": [
    "nitrogen_pre2013.mean = 1.1208964143426299\n",
    "nitrogen_post2013.mean = 0.848504672897196"
   ]
  },
  {
   "cell_type": "code",
   "execution_count": 64,
   "metadata": {},
   "outputs": [
    {
     "data": {
      "text/html": [
       "<table class=\"simpletable\">\n",
       "<caption>OLS Regression Results</caption>\n",
       "<tr>\n",
       "  <th>Dep. Variable:</th>         <td>nResult</td>     <th>  R-squared:         </th> <td>   0.012</td>\n",
       "</tr>\n",
       "<tr>\n",
       "  <th>Model:</th>                   <td>OLS</td>       <th>  Adj. R-squared:    </th> <td>   0.011</td>\n",
       "</tr>\n",
       "<tr>\n",
       "  <th>Method:</th>             <td>Least Squares</td>  <th>  F-statistic:       </th> <td>   7.474</td>\n",
       "</tr>\n",
       "<tr>\n",
       "  <th>Date:</th>             <td>Tue, 02 May 2023</td> <th>  Prob (F-statistic):</th>  <td>0.00644</td>\n",
       "</tr>\n",
       "<tr>\n",
       "  <th>Time:</th>                 <td>17:39:43</td>     <th>  Log-Likelihood:    </th> <td> -822.68</td>\n",
       "</tr>\n",
       "<tr>\n",
       "  <th>No. Observations:</th>      <td>   609</td>      <th>  AIC:               </th> <td>   1649.</td>\n",
       "</tr>\n",
       "<tr>\n",
       "  <th>Df Residuals:</th>          <td>   607</td>      <th>  BIC:               </th> <td>   1658.</td>\n",
       "</tr>\n",
       "<tr>\n",
       "  <th>Df Model:</th>              <td>     1</td>      <th>                     </th>     <td> </td>   \n",
       "</tr>\n",
       "<tr>\n",
       "  <th>Covariance Type:</th>      <td>nonrobust</td>    <th>                     </th>     <td> </td>   \n",
       "</tr>\n",
       "</table>\n",
       "<table class=\"simpletable\">\n",
       "<tr>\n",
       "         <td></td>           <th>coef</th>     <th>std err</th>      <th>t</th>      <th>P>|t|</th>  <th>[0.025</th>    <th>0.975]</th>  \n",
       "</tr>\n",
       "<tr>\n",
       "  <th>Intercept</th>      <td>    1.1209</td> <td>    0.042</td> <td>   26.839</td> <td> 0.000</td> <td>    1.039</td> <td>    1.203</td>\n",
       "</tr>\n",
       "<tr>\n",
       "  <th>dummy_variable</th> <td>   -0.2724</td> <td>    0.100</td> <td>   -2.734</td> <td> 0.006</td> <td>   -0.468</td> <td>   -0.077</td>\n",
       "</tr>\n",
       "</table>\n",
       "<table class=\"simpletable\">\n",
       "<tr>\n",
       "  <th>Omnibus:</th>       <td>575.958</td> <th>  Durbin-Watson:     </th> <td>   1.921</td> \n",
       "</tr>\n",
       "<tr>\n",
       "  <th>Prob(Omnibus):</th> <td> 0.000</td>  <th>  Jarque-Bera (JB):  </th> <td>19607.639</td>\n",
       "</tr>\n",
       "<tr>\n",
       "  <th>Skew:</th>          <td> 4.242</td>  <th>  Prob(JB):          </th> <td>    0.00</td> \n",
       "</tr>\n",
       "<tr>\n",
       "  <th>Kurtosis:</th>      <td>29.472</td>  <th>  Cond. No.          </th> <td>    2.72</td> \n",
       "</tr>\n",
       "</table><br/><br/>Notes:<br/>[1] Standard Errors assume that the covariance matrix of the errors is correctly specified."
      ],
      "text/plain": [
       "<class 'statsmodels.iolib.summary.Summary'>\n",
       "\"\"\"\n",
       "                            OLS Regression Results                            \n",
       "==============================================================================\n",
       "Dep. Variable:                nResult   R-squared:                       0.012\n",
       "Model:                            OLS   Adj. R-squared:                  0.011\n",
       "Method:                 Least Squares   F-statistic:                     7.474\n",
       "Date:                Tue, 02 May 2023   Prob (F-statistic):            0.00644\n",
       "Time:                        17:39:43   Log-Likelihood:                -822.68\n",
       "No. Observations:                 609   AIC:                             1649.\n",
       "Df Residuals:                     607   BIC:                             1658.\n",
       "Df Model:                           1                                         \n",
       "Covariance Type:            nonrobust                                         \n",
       "==================================================================================\n",
       "                     coef    std err          t      P>|t|      [0.025      0.975]\n",
       "----------------------------------------------------------------------------------\n",
       "Intercept          1.1209      0.042     26.839      0.000       1.039       1.203\n",
       "dummy_variable    -0.2724      0.100     -2.734      0.006      -0.468      -0.077\n",
       "==============================================================================\n",
       "Omnibus:                      575.958   Durbin-Watson:                   1.921\n",
       "Prob(Omnibus):                  0.000   Jarque-Bera (JB):            19607.639\n",
       "Skew:                           4.242   Prob(JB):                         0.00\n",
       "Kurtosis:                      29.472   Cond. No.                         2.72\n",
       "==============================================================================\n",
       "\n",
       "Notes:\n",
       "[1] Standard Errors assume that the covariance matrix of the errors is correctly specified.\n",
       "\"\"\""
      ]
     },
     "execution_count": 64,
     "metadata": {},
     "output_type": "execute_result"
    }
   ],
   "source": [
    "import statsmodels.formula.api as smf\n",
    "nitrogen_df = df_copy.loc[(df_copy['DWM_Name'] == 'Total Nitrogen')]\n",
    "nitrogen_ols = smf.ols(formula='nResult ~ closest distance dummy_variable', data = nitrogen_df).fit()\n",
    "nitrogen_ols.summary()"
   ]
  },
  {
   "attachments": {},
   "cell_type": "markdown",
   "metadata": {},
   "source": [
    "Next, I ran t-tests for each individual watershed to account for regional differences. Referring back to the map created in check-in 4, there are some watersheds located further away from Boston, while some pass through the heart of Boston, so I would expect to see some differences in significance of pre- and post-2013 data differences.  "
   ]
  },
  {
   "cell_type": "code",
   "execution_count": 65,
   "metadata": {},
   "outputs": [],
   "source": [
    "GPreSouth = nitrogen_pre2013_df.loc[nitrogen_pre2013_df['Watershed'] == 'South Coastal']\n",
    "GPreshaw = nitrogen_pre2013_df.loc[nitrogen_pre2013_df['Watershed'] == 'Shawsheen']\n",
    "GPrenep = nitrogen_pre2013_df.loc[nitrogen_pre2013_df['Watershed'] == 'Neponset']\n",
    "GPrecharles = nitrogen_pre2013_df.loc[nitrogen_pre2013_df['Watershed'] == 'Charles']\n",
    "\n",
    "GPostSouth = nitrogen_post2013_df.loc[nitrogen_post2013_df['Watershed'] == 'South Coastal']\n",
    "GPostshaw = nitrogen_post2013_df.loc[nitrogen_post2013_df['Watershed'] == 'Shawsheen']\n",
    "GPostnep = nitrogen_post2013_df.loc[nitrogen_post2013_df['Watershed'] == 'Neponset']\n",
    "GPostcharles = nitrogen_post2013_df.loc[nitrogen_post2013_df['Watershed'] == 'Charles']"
   ]
  },
  {
   "cell_type": "code",
   "execution_count": 67,
   "metadata": {},
   "outputs": [],
   "source": [
    "NitrogenAllSouthCoastal = df_copy.loc[(df_copy['DWM_Name'] == 'Total Nitrogen') & (df_copy['Watershed'] == 'South Coastal')]\n",
    "NitrogenAllShaw = df_copy.loc[(df_copy['DWM_Name'] == 'Total Nitrogen') & (df_copy['Watershed'] == 'Shawsheen')]\n",
    "NitrogenAllNep = df_copy.loc[(df_copy['DWM_Name'] == 'Total Nitrogen') & (df_copy['Watershed'] == 'Neponset')]\n",
    "NitrogenAllCharles = df_copy.loc[(df_copy['DWM_Name'] == 'Total Nitrogen') & (df_copy['Watershed'] == 'Charles')]"
   ]
  },
  {
   "attachments": {},
   "cell_type": "markdown",
   "metadata": {},
   "source": [
    "South Coastal:"
   ]
  },
  {
   "cell_type": "code",
   "execution_count": 52,
   "metadata": {},
   "outputs": [
    {
     "data": {
      "text/plain": [
       "Ttest_indResult(statistic=2.2223825974718316, pvalue=0.027418631301931822)"
      ]
     },
     "execution_count": 52,
     "metadata": {},
     "output_type": "execute_result"
    }
   ],
   "source": [
    "stats.ttest_ind(GPreSouth['nResult'], GPostSouth['nResult'], alternative='two-sided')"
   ]
  },
  {
   "cell_type": "code",
   "execution_count": null,
   "metadata": {},
   "outputs": [],
   "source": [
    "nitrogen_south_coastal_ols = smf.ols(formula='nResult ~ dummy_variable', data =NitrogenAllSouthCoastal).fit()\n",
    "nitrogen_south_coastal_ols.summary()"
   ]
  },
  {
   "cell_type": "code",
   "execution_count": 75,
   "metadata": {},
   "outputs": [
    {
     "data": {
      "text/plain": [
       "43.246770313169144"
      ]
     },
     "execution_count": 75,
     "metadata": {},
     "output_type": "execute_result"
    }
   ],
   "source": [
    "nitrogen_south_coastal_distance_ols = smf.ols(formula='nResult ~ closest_farm_distance_km + closest_farm_distance_km:dummy_variable', data =NitrogenAllSouthCoastal).fit()\n",
    "nitrogen_south_coastal_distance_ols.summary()\n"
   ]
  },
  {
   "attachments": {},
   "cell_type": "markdown",
   "metadata": {},
   "source": [
    "Shawsheen:"
   ]
  },
  {
   "cell_type": "code",
   "execution_count": null,
   "metadata": {},
   "outputs": [],
   "source": [
    "nitrogen_shawsheen_ols = smf.ols(formula='nResult ~ dummy_variable', data =NitrogenAllShaw).fit()\n",
    "nitrogen_shawsheen_ols.summary()"
   ]
  },
  {
   "cell_type": "code",
   "execution_count": 55,
   "metadata": {},
   "outputs": [
    {
     "data": {
      "text/plain": [
       "Ttest_indResult(statistic=1.6796379031154025, pvalue=0.09653510203234185)"
      ]
     },
     "execution_count": 55,
     "metadata": {},
     "output_type": "execute_result"
    }
   ],
   "source": [
    "stats.ttest_ind(GPreshaw['nResult'], GPostshaw['nResult'], alternative='two-sided')"
   ]
  },
  {
   "attachments": {},
   "cell_type": "markdown",
   "metadata": {},
   "source": [
    "Neponset: "
   ]
  },
  {
   "cell_type": "code",
   "execution_count": 56,
   "metadata": {},
   "outputs": [
    {
     "data": {
      "text/plain": [
       "Ttest_indResult(statistic=2.7812732926419597, pvalue=0.006390687830296602)"
      ]
     },
     "execution_count": 56,
     "metadata": {},
     "output_type": "execute_result"
    }
   ],
   "source": [
    "stats.ttest_ind(GPrenep['nResult'], GPostnep['nResult'], alternative='two-sided')"
   ]
  },
  {
   "cell_type": "code",
   "execution_count": null,
   "metadata": {},
   "outputs": [],
   "source": [
    "nitrogen_neponset_ols = smf.ols(formula='nResult ~ dummy_variable', data =NitrogenAllNep).fit()\n",
    "nitrogen_neponset_ols.summary()"
   ]
  },
  {
   "cell_type": "code",
   "execution_count": 76,
   "metadata": {},
   "outputs": [
    {
     "data": {
      "text/plain": [
       "7.68816849433671"
      ]
     },
     "execution_count": 76,
     "metadata": {},
     "output_type": "execute_result"
    }
   ],
   "source": [
    "nitrogen_neponset_distance_ols = smf.ols(formula='nResult ~ closest_farm_distance_km + closest_farm_distance_km:dummy_variable', data =NitrogenAllNep).fit()\n",
    "nitrogen_neponset_distance_ols.summary()\n",
    "NitrogenAllNep['closest_farm_distance_km'].mean()\n"
   ]
  },
  {
   "attachments": {},
   "cell_type": "markdown",
   "metadata": {},
   "source": [
    "Charles:"
   ]
  },
  {
   "cell_type": "code",
   "execution_count": 58,
   "metadata": {},
   "outputs": [
    {
     "data": {
      "text/plain": [
       "Ttest_indResult(statistic=0.5252952662933288, pvalue=0.5999294962869886)"
      ]
     },
     "execution_count": 58,
     "metadata": {},
     "output_type": "execute_result"
    }
   ],
   "source": [
    "stats.ttest_ind(GPrecharles['nResult'], GPostcharles['nResult'], alternative='two-sided')"
   ]
  },
  {
   "cell_type": "code",
   "execution_count": null,
   "metadata": {},
   "outputs": [],
   "source": [
    "nitrogen_charles_ols = smf.ols(formula='nResult ~ dummy_variable', data =NitrogenAllCharles).fit()\n",
    "nitrogen_charles_ols.summary()"
   ]
  },
  {
   "cell_type": "code",
   "execution_count": null,
   "metadata": {},
   "outputs": [],
   "source": [
    "nitrogen_charles_distance_ols = smf.ols(formula='nResult ~ dummy_variable', data =NitrogenAllCharles).fit()"
   ]
  },
  {
   "attachments": {},
   "cell_type": "markdown",
   "metadata": {},
   "source": [
    "I ran dummy variable regressions on nitrogen levels in each water shed. The Coefficients reflect the difference in mean nitrogen concentration in each watershed pre-2013 to post-2013. \n",
    "\n",
    "Charles: -.1025, not significant \n",
    "Neponset: -0.5059, significant \n",
    "Shawsheen: -0.1608, not significant \n",
    "South Coastal: -0.4191, significant "
   ]
  },
  {
   "attachments": {},
   "cell_type": "markdown",
   "metadata": {},
   "source": [
    "Next, I ran a multiple regression on the watersheds that had significant coefficients. I regressed nutrient densities on our distance variable and an interaction term between distance and the 2013 dumy variable. The coefficient on the interaction term will tell us how the effect of distance from farms on nutrient densities changed after 2013.\n",
    "\n",
    "Results \n",
    "\n",
    "Neponset -> Coeffcient on distance = -0.0236, significant at .049 t-value, coefficient on interactoin term -> -0.1030, significant at the .002 t-value. Total model r-squared is .109, mean distance is 7.68816849433671\n",
    "\n",
    "South Coastal -> Coeffcient on distance = -0.0340 , significant at .049 t-value, coefficient on interactoin term -> -0.0054, not significant Total model r-squared is .178, mean distance = 43.246770313169144"
   ]
  },
  {
   "attachments": {},
   "cell_type": "markdown",
   "metadata": {},
   "source": [
    "**Ammonia:**\n",
    "\n",
    "I did the same for ammonia, which shows a pval of 0.1, demonstrating that ammonia levels pre-2013 were not necessarily greater than post-2013. "
   ]
  },
  {
   "cell_type": "code",
   "execution_count": 10,
   "metadata": {},
   "outputs": [
    {
     "data": {
      "text/plain": [
       "Ttest_indResult(statistic=1.2776985236750187, pvalue=0.20193250688987674)"
      ]
     },
     "execution_count": 10,
     "metadata": {},
     "output_type": "execute_result"
    }
   ],
   "source": [
    "ammonia_pre2013_df = df_copy.loc[(df_copy['StartDate'].dt.year<2013) & (df_copy['DWM_Name'] == 'Ammonia-N')]\n",
    "ammonia_post2013_df = df_copy.loc[(df_copy['StartDate'].dt.year>=2013) & (df_copy['DWM_Name'] == 'Ammonia-N')]\n",
    "\n",
    "stats.ttest_ind(ammonia_pre2013_df['nResult'], ammonia_post2013_df['nResult'], alternative='two-sided')"
   ]
  },
  {
   "attachments": {},
   "cell_type": "markdown",
   "metadata": {},
   "source": [
    "I then ran t-tests by region for Ammonia too."
   ]
  },
  {
   "cell_type": "code",
   "execution_count": 11,
   "metadata": {},
   "outputs": [],
   "source": [
    "APreSouth = ammonia_pre2013_df.loc[ammonia_pre2013_df['Watershed'] == 'South Coastal']\n",
    "APreshaw = ammonia_pre2013_df.loc[ammonia_pre2013_df['Watershed'] == 'Shawsheen']\n",
    "APrenep = ammonia_pre2013_df.loc[ammonia_pre2013_df['Watershed'] == 'Neponset']\n",
    "APrecharles = ammonia_pre2013_df.loc[ammonia_pre2013_df['Watershed'] == 'Charles']\n",
    "\n",
    "APostSouth = ammonia_post2013_df.loc[ammonia_post2013_df['Watershed'] == 'South Coastal']\n",
    "APostshaw = ammonia_post2013_df.loc[ammonia_post2013_df['Watershed'] == 'Shawsheen']\n",
    "APostnep = ammonia_post2013_df.loc[ammonia_post2013_df['Watershed'] == 'Neponset']\n",
    "APostcharles = ammonia_post2013_df.loc[ammonia_post2013_df['Watershed'] == 'Charles']"
   ]
  },
  {
   "attachments": {},
   "cell_type": "markdown",
   "metadata": {},
   "source": [
    "South Coastal:"
   ]
  },
  {
   "cell_type": "code",
   "execution_count": 12,
   "metadata": {},
   "outputs": [
    {
     "data": {
      "text/plain": [
       "Ttest_indResult(statistic=3.5767445550824473, pvalue=0.0005239370574844963)"
      ]
     },
     "execution_count": 12,
     "metadata": {},
     "output_type": "execute_result"
    }
   ],
   "source": [
    "stats.ttest_ind(APreSouth['nResult'], APostSouth['nResult'], alternative='two-sided')"
   ]
  },
  {
   "attachments": {},
   "cell_type": "markdown",
   "metadata": {},
   "source": [
    "Shawsheen:"
   ]
  },
  {
   "cell_type": "code",
   "execution_count": 13,
   "metadata": {},
   "outputs": [
    {
     "data": {
      "text/plain": [
       "Ttest_indResult(statistic=2.284088498789362, pvalue=0.024718676015365024)"
      ]
     },
     "execution_count": 13,
     "metadata": {},
     "output_type": "execute_result"
    }
   ],
   "source": [
    "stats.ttest_ind(APreshaw['nResult'], APostshaw['nResult'], alternative='two-sided')"
   ]
  },
  {
   "attachments": {},
   "cell_type": "markdown",
   "metadata": {},
   "source": [
    "Neponset:"
   ]
  },
  {
   "cell_type": "code",
   "execution_count": 14,
   "metadata": {},
   "outputs": [
    {
     "data": {
      "text/plain": [
       "Ttest_indResult(statistic=1.7835758368450834, pvalue=0.07738164630316936)"
      ]
     },
     "execution_count": 14,
     "metadata": {},
     "output_type": "execute_result"
    }
   ],
   "source": [
    "stats.ttest_ind(APrenep['nResult'], APostnep['nResult'], alternative='two-sided')"
   ]
  },
  {
   "attachments": {},
   "cell_type": "markdown",
   "metadata": {},
   "source": [
    "Charles:"
   ]
  },
  {
   "cell_type": "code",
   "execution_count": 15,
   "metadata": {},
   "outputs": [
    {
     "data": {
      "text/plain": [
       "Ttest_indResult(statistic=-1.7345167742714582, pvalue=0.08432225605159661)"
      ]
     },
     "execution_count": 15,
     "metadata": {},
     "output_type": "execute_result"
    }
   ],
   "source": [
    "stats.ttest_ind(APrecharles['nResult'], APostcharles['nResult'], alternative='two-sided')"
   ]
  },
  {
   "attachments": {},
   "cell_type": "markdown",
   "metadata": {},
   "source": [
    "Interestingly, when run individually, South Coastal and Shawsheen show significant difference between the pre- and post-2013, while Neponset and Charles show no significant difference like our original results."
   ]
  },
  {
   "attachments": {},
   "cell_type": "markdown",
   "metadata": {},
   "source": [
    "**Phosphorus:**\n",
    "\n",
    "Phosphorus is more similar to Nitrogen, showing a pval of 0.003 and demonstrating significance."
   ]
  },
  {
   "cell_type": "code",
   "execution_count": 16,
   "metadata": {},
   "outputs": [
    {
     "data": {
      "text/plain": [
       "Ttest_indResult(statistic=2.733644704011147, pvalue=0.006445810386973598)"
      ]
     },
     "execution_count": 16,
     "metadata": {},
     "output_type": "execute_result"
    }
   ],
   "source": [
    "phosphorus_pre2013_df = df_copy.loc[(df_copy['StartDate'].dt.year<2013) & (df_copy['DWM_Name'] == 'Total Phosphorus')]\n",
    "phosphorus_post2013_df = df_copy.loc[(df_copy['StartDate'].dt.year>=2013) & (df_copy['DWM_Name'] == 'Total Phosphorus')]\n",
    "\n",
    "stats.ttest_ind(phosphorus_pre2013_df['nResult'], phosphorus_post2013_df['nResult'], alternative='two-sided')"
   ]
  },
  {
   "cell_type": "code",
   "execution_count": 94,
   "metadata": {},
   "outputs": [
    {
     "name": "stdout",
     "output_type": "stream",
     "text": [
      "0.05725148514851489\n",
      "0.03869811320754717\n"
     ]
    }
   ],
   "source": [
    "phosphorus_df = df_copy.loc[(df_copy['DWM_Name'] == 'Total Phosphorus')]\n",
    "phosphorus_df_ols = smf.ols(formula= 'nResult ~ dummy_variable', data=phosphorus_df).fit()\n",
    "phosphorus_df_ols.summary()\n",
    "print(phosphorus_pre2013_df['nResult'].mean())\n",
    "print(phosphorus_post2013_df['nResult'].mean())\n"
   ]
  },
  {
   "attachments": {},
   "cell_type": "markdown",
   "metadata": {},
   "source": [
    "Once again, I run t-tests for each individual watershed."
   ]
  },
  {
   "cell_type": "code",
   "execution_count": 17,
   "metadata": {},
   "outputs": [],
   "source": [
    "PPreSouth = phosphorus_pre2013_df.loc[phosphorus_pre2013_df['Watershed'] == 'South Coastal']\n",
    "PPreshaw = phosphorus_pre2013_df.loc[phosphorus_pre2013_df['Watershed'] == 'Shawsheen']\n",
    "PPrenep = phosphorus_pre2013_df.loc[phosphorus_pre2013_df['Watershed'] == 'Neponset']\n",
    "PPrecharles = phosphorus_pre2013_df.loc[phosphorus_pre2013_df['Watershed'] == 'Charles']\n",
    "\n",
    "PPostSouth = phosphorus_post2013_df.loc[phosphorus_post2013_df['Watershed'] == 'South Coastal']\n",
    "PPostshaw = phosphorus_post2013_df.loc[phosphorus_post2013_df['Watershed'] == 'Shawsheen']\n",
    "PPostnep = phosphorus_post2013_df.loc[phosphorus_post2013_df['Watershed'] == 'Neponset']\n",
    "PPostcharles = phosphorus_post2013_df.loc[phosphorus_post2013_df['Watershed'] == 'Charles']"
   ]
  },
  {
   "attachments": {},
   "cell_type": "markdown",
   "metadata": {},
   "source": [
    "South Coastal:"
   ]
  },
  {
   "cell_type": "code",
   "execution_count": 18,
   "metadata": {},
   "outputs": [
    {
     "data": {
      "text/plain": [
       "Ttest_indResult(statistic=2.7662846457675205, pvalue=0.006248491333998326)"
      ]
     },
     "execution_count": 18,
     "metadata": {},
     "output_type": "execute_result"
    }
   ],
   "source": [
    "stats.ttest_ind(PPreSouth['nResult'], PPostSouth['nResult'], alternative='two-sided')"
   ]
  },
  {
   "attachments": {},
   "cell_type": "markdown",
   "metadata": {},
   "source": [
    "Shawsheen:"
   ]
  },
  {
   "cell_type": "code",
   "execution_count": 19,
   "metadata": {},
   "outputs": [
    {
     "data": {
      "text/plain": [
       "Ttest_indResult(statistic=0.3580838003027788, pvalue=0.7211284977971077)"
      ]
     },
     "execution_count": 19,
     "metadata": {},
     "output_type": "execute_result"
    }
   ],
   "source": [
    "stats.ttest_ind(PPreshaw['nResult'], PPostshaw['nResult'], alternative='two-sided')"
   ]
  },
  {
   "attachments": {},
   "cell_type": "markdown",
   "metadata": {},
   "source": [
    "Neponset:"
   ]
  },
  {
   "cell_type": "code",
   "execution_count": 20,
   "metadata": {},
   "outputs": [
    {
     "data": {
      "text/plain": [
       "Ttest_indResult(statistic=1.6924030282030538, pvalue=0.09327684838282967)"
      ]
     },
     "execution_count": 20,
     "metadata": {},
     "output_type": "execute_result"
    }
   ],
   "source": [
    "stats.ttest_ind(PPrenep['nResult'], PPostnep['nResult'], alternative='two-sided')"
   ]
  },
  {
   "attachments": {},
   "cell_type": "markdown",
   "metadata": {},
   "source": [
    "Charles:"
   ]
  },
  {
   "cell_type": "code",
   "execution_count": 21,
   "metadata": {},
   "outputs": [
    {
     "data": {
      "text/plain": [
       "Ttest_indResult(statistic=1.7425866048966383, pvalue=0.08283567330443037)"
      ]
     },
     "execution_count": 21,
     "metadata": {},
     "output_type": "execute_result"
    }
   ],
   "source": [
    "stats.ttest_ind(PPrecharles['nResult'], PPostcharles['nResult'], alternative='two-sided')"
   ]
  },
  {
   "attachments": {},
   "cell_type": "markdown",
   "metadata": {},
   "source": [
    "**Nitrate/Nitrite:**\n",
    "\n",
    "These two show an even lower pval than the others, demonstrating more certain significance. "
   ]
  },
  {
   "cell_type": "code",
   "execution_count": 22,
   "metadata": {},
   "outputs": [
    {
     "data": {
      "text/plain": [
       "Ttest_indResult(statistic=3.402320058875278, pvalue=0.0007783526205137045)"
      ]
     },
     "execution_count": 22,
     "metadata": {},
     "output_type": "execute_result"
    }
   ],
   "source": [
    "nitrate_pre2013_df = df_copy.loc[(df_copy['StartDate'].dt.year<2013) & (df_copy['DWM_Name'] == 'Nitrate/Nitrite-N')]\n",
    "nitrate_post2013_df = df_copy.loc[(df_copy['StartDate'].dt.year>=2013) & (df_copy['DWM_Name'] == 'Nitrate/Nitrite-N')]\n",
    "\n",
    "stats.ttest_ind(nitrate_pre2013_df['nResult'], nitrate_post2013_df['nResult'], alternative='two-sided')\n",
    "\n"
   ]
  },
  {
   "cell_type": "code",
   "execution_count": 96,
   "metadata": {},
   "outputs": [
    {
     "name": "stdout",
     "output_type": "stream",
     "text": [
      "0.7447305389221558\n",
      "0.33511904761904754\n"
     ]
    }
   ],
   "source": [
    "print(nitrate_pre2013_df['nResult'].mean())\n",
    "print(nitrate_post2013_df['nResult'].mean())"
   ]
  },
  {
   "attachments": {},
   "cell_type": "markdown",
   "metadata": {},
   "source": [
    "Once again, the t-tests for each watershed."
   ]
  },
  {
   "cell_type": "code",
   "execution_count": 23,
   "metadata": {},
   "outputs": [],
   "source": [
    "NPreSouth = nitrate_pre2013_df.loc[nitrate_pre2013_df['Watershed'] == 'South Coastal']\n",
    "NPreshaw = nitrate_pre2013_df.loc[nitrate_pre2013_df['Watershed'] == 'Shawsheen']\n",
    "NPrenep = nitrate_pre2013_df.loc[nitrate_pre2013_df['Watershed'] == 'Neponset']\n",
    "NPrecharles = nitrate_pre2013_df.loc[nitrate_pre2013_df['Watershed'] == 'Charles']\n",
    "\n",
    "NPostSouth = nitrate_post2013_df.loc[nitrate_post2013_df['Watershed'] == 'South Coastal']\n",
    "NPostshaw = nitrate_post2013_df.loc[nitrate_post2013_df['Watershed'] == 'Shawsheen']\n",
    "NPostnep = nitrate_post2013_df.loc[nitrate_post2013_df['Watershed'] == 'Neponset']\n",
    "NPostcharles = nitrate_post2013_df.loc[nitrate_post2013_df['Watershed'] == 'Charles']"
   ]
  },
  {
   "attachments": {},
   "cell_type": "markdown",
   "metadata": {},
   "source": [
    "South Coastal:"
   ]
  },
  {
   "cell_type": "code",
   "execution_count": 24,
   "metadata": {},
   "outputs": [
    {
     "data": {
      "text/plain": [
       "Ttest_indResult(statistic=1.7899843202123182, pvalue=0.0814274868439968)"
      ]
     },
     "execution_count": 24,
     "metadata": {},
     "output_type": "execute_result"
    }
   ],
   "source": [
    "stats.ttest_ind(NPreSouth['nResult'], NPostSouth['nResult'], alternative='two-sided')"
   ]
  },
  {
   "attachments": {},
   "cell_type": "markdown",
   "metadata": {},
   "source": [
    "Shawsheen:"
   ]
  },
  {
   "cell_type": "code",
   "execution_count": 25,
   "metadata": {},
   "outputs": [
    {
     "data": {
      "text/plain": [
       "Ttest_indResult(statistic=nan, pvalue=nan)"
      ]
     },
     "execution_count": 25,
     "metadata": {},
     "output_type": "execute_result"
    }
   ],
   "source": [
    "stats.ttest_ind(NPreshaw['nResult'], NPostshaw['nResult'], alternative='two-sided')"
   ]
  },
  {
   "attachments": {},
   "cell_type": "markdown",
   "metadata": {},
   "source": [
    "Neponset:"
   ]
  },
  {
   "cell_type": "code",
   "execution_count": 26,
   "metadata": {},
   "outputs": [
    {
     "data": {
      "text/plain": [
       "Ttest_indResult(statistic=nan, pvalue=nan)"
      ]
     },
     "execution_count": 26,
     "metadata": {},
     "output_type": "execute_result"
    }
   ],
   "source": [
    "stats.ttest_ind(NPrenep['nResult'], NPostnep['nResult'], alternative='two-sided')"
   ]
  },
  {
   "attachments": {},
   "cell_type": "markdown",
   "metadata": {},
   "source": [
    "Charles:"
   ]
  },
  {
   "cell_type": "code",
   "execution_count": 27,
   "metadata": {},
   "outputs": [
    {
     "data": {
      "text/plain": [
       "Ttest_indResult(statistic=0.4527913909437512, pvalue=0.6512353126731127)"
      ]
     },
     "execution_count": 27,
     "metadata": {},
     "output_type": "execute_result"
    }
   ],
   "source": [
    "stats.ttest_ind(NPrecharles['nResult'], NPostcharles['nResult'], alternative='two-sided')"
   ]
  },
  {
   "attachments": {},
   "cell_type": "markdown",
   "metadata": {},
   "source": [
    "Nitrate/nitrite appears to have some missing data for the shawsheen and neponset watersheds. Otherwise, it seems like neither charles nor south coastal appear to show a significant difference, which is rather unusual compared to its original pvalue. Due to the missing data, however, we've decided to exclude nitrite/nitrate from our final analysis."
   ]
  },
  {
   "attachments": {},
   "cell_type": "markdown",
   "metadata": {},
   "source": [
    "# Conclusions"
   ]
  },
  {
   "attachments": {},
   "cell_type": "markdown",
   "metadata": {},
   "source": [
    "Based on a significance level of 0.05, the following nutrients show significant differences for the watersheds they're listed under: \n",
    "\n",
    "South Coastal:\n",
    "- Nitrogen\n",
    "- Ammonia\n",
    "- phosphorus\n",
    "\n",
    "Shawsheen:\n",
    "- Ammonia\n",
    "\n",
    "Neponset: \n",
    "- Nitrogen\n",
    "\n",
    "Charles: \n",
    "- None\n",
    "\n",
    "\n",
    "\n",
    "It appears as though South Coastal is the only one significantly affected in general. This may have to do with South Coastal's location, southeast of the Boston Metropolitan Area. Surprisingly, Charles, which seems to pass through the heart of the Boston Metropolitan Area, doesn't have a significant difference in any nutrient level. The Shawsheen and Neponset watersheds only show a significant difference in the level of in one of 3 nutrients, indicating that they're is probably not much meaningful difference between pre- and post-2013 nutrient levels overall. "
   ]
  },
  {
   "cell_type": "code",
   "execution_count": 84,
   "metadata": {},
   "outputs": [],
   "source": [
    "AmmoniaAllSouthCoastal = df_copy.loc[(df_copy['DWM_Name'] == 'Ammonia-N') & (df_copy['Watershed'] == 'South Coastal')]\n",
    "AmmoniaAllShaw = df_copy.loc[(df_copy['DWM_Name'] == 'Ammonia-N') & (df_copy['Watershed'] == 'Shawsheen')]\n",
    "AmmoniaAllNep = df_copy.loc[(df_copy['DWM_Name'] == 'Ammonia-N') & (df_copy['Watershed'] == 'Neponset')]\n",
    "AmmoniaAllCharles = df_copy.loc[(df_copy['DWM_Name'] == 'Ammonia-N') & (df_copy['Watershed'] == 'Charles')]"
   ]
  },
  {
   "cell_type": "code",
   "execution_count": 85,
   "metadata": {},
   "outputs": [
    {
     "name": "stdout",
     "output_type": "stream",
     "text": [
      "Nitrogen South Coastal Mean Distance 43.246770313169144\n",
      "Nitrogen Shawsheen Mean Distance 26.6290762326017\n",
      "Nitrogen Charles Mean Distance 18.496788935719223\n",
      "Nitrogen Neponset Mean Distance 7.68816849433671\n",
      "Ammonia South Coastal Mean Distance 37.21191830846172\n",
      "Ammonia Shawsheen Mean Distance 26.718884498979097\n",
      "Ammonia Charles Mean Distance 18.52659961761618\n",
      "Ammonia Neponset Mean Distance 7.745954744667652\n"
     ]
    },
    {
     "data": {
      "text/html": [
       "<div>\n",
       "<style scoped>\n",
       "    .dataframe tbody tr th:only-of-type {\n",
       "        vertical-align: middle;\n",
       "    }\n",
       "\n",
       "    .dataframe tbody tr th {\n",
       "        vertical-align: top;\n",
       "    }\n",
       "\n",
       "    .dataframe thead th {\n",
       "        text-align: right;\n",
       "    }\n",
       "</style>\n",
       "<table border=\"1\" class=\"dataframe\">\n",
       "  <thead>\n",
       "    <tr style=\"text-align: right;\">\n",
       "      <th></th>\n",
       "      <th>Watershed</th>\n",
       "      <th>Latitude</th>\n",
       "      <th>Longitude</th>\n",
       "      <th>StartDate</th>\n",
       "      <th>StartTime</th>\n",
       "      <th>DWM_Name</th>\n",
       "      <th>DWM_Units</th>\n",
       "      <th>ResVal</th>\n",
       "      <th>nResult</th>\n",
       "      <th>dummy_variable</th>\n",
       "      <th>closest_farm_distance_km</th>\n",
       "    </tr>\n",
       "  </thead>\n",
       "  <tbody>\n",
       "    <tr>\n",
       "      <th>131</th>\n",
       "      <td>Neponset</td>\n",
       "      <td>42.192183</td>\n",
       "      <td>-71.092968</td>\n",
       "      <td>2017-07-20</td>\n",
       "      <td>10:20:00 AM</td>\n",
       "      <td>Ammonia-N</td>\n",
       "      <td>mg/L</td>\n",
       "      <td>&lt;0.04</td>\n",
       "      <td>-0.04</td>\n",
       "      <td>1.0</td>\n",
       "      <td>6.698472</td>\n",
       "    </tr>\n",
       "    <tr>\n",
       "      <th>135</th>\n",
       "      <td>Neponset</td>\n",
       "      <td>42.192183</td>\n",
       "      <td>-71.092968</td>\n",
       "      <td>2017-07-20</td>\n",
       "      <td>10:25:00 AM</td>\n",
       "      <td>Ammonia-N</td>\n",
       "      <td>mg/L</td>\n",
       "      <td>&lt;0.04</td>\n",
       "      <td>-0.04</td>\n",
       "      <td>1.0</td>\n",
       "      <td>6.698472</td>\n",
       "    </tr>\n",
       "    <tr>\n",
       "      <th>155</th>\n",
       "      <td>Neponset</td>\n",
       "      <td>42.192183</td>\n",
       "      <td>-71.092968</td>\n",
       "      <td>2017-08-29</td>\n",
       "      <td>9:45:00 AM</td>\n",
       "      <td>Ammonia-N</td>\n",
       "      <td>mg/L</td>\n",
       "      <td>&lt;0.04</td>\n",
       "      <td>-0.04</td>\n",
       "      <td>1.0</td>\n",
       "      <td>6.698472</td>\n",
       "    </tr>\n",
       "    <tr>\n",
       "      <th>159</th>\n",
       "      <td>Neponset</td>\n",
       "      <td>42.192183</td>\n",
       "      <td>-71.092968</td>\n",
       "      <td>2017-08-29</td>\n",
       "      <td>10:00:00 AM</td>\n",
       "      <td>Ammonia-N</td>\n",
       "      <td>mg/L</td>\n",
       "      <td>&lt;0.04</td>\n",
       "      <td>-0.04</td>\n",
       "      <td>1.0</td>\n",
       "      <td>6.698472</td>\n",
       "    </tr>\n",
       "    <tr>\n",
       "      <th>351</th>\n",
       "      <td>Neponset</td>\n",
       "      <td>42.243430</td>\n",
       "      <td>-71.094378</td>\n",
       "      <td>2013-05-30</td>\n",
       "      <td>11:17:00 AM</td>\n",
       "      <td>Ammonia-N</td>\n",
       "      <td>mg/L</td>\n",
       "      <td>0.02</td>\n",
       "      <td>0.02</td>\n",
       "      <td>1.0</td>\n",
       "      <td>3.484433</td>\n",
       "    </tr>\n",
       "  </tbody>\n",
       "</table>\n",
       "</div>"
      ],
      "text/plain": [
       "    Watershed   Latitude  Longitude  StartDate    StartTime   DWM_Name  \\\n",
       "131  Neponset  42.192183 -71.092968 2017-07-20  10:20:00 AM  Ammonia-N   \n",
       "135  Neponset  42.192183 -71.092968 2017-07-20  10:25:00 AM  Ammonia-N   \n",
       "155  Neponset  42.192183 -71.092968 2017-08-29   9:45:00 AM  Ammonia-N   \n",
       "159  Neponset  42.192183 -71.092968 2017-08-29  10:00:00 AM  Ammonia-N   \n",
       "351  Neponset  42.243430 -71.094378 2013-05-30  11:17:00 AM  Ammonia-N   \n",
       "\n",
       "    DWM_Units ResVal  nResult  dummy_variable  closest_farm_distance_km  \n",
       "131      mg/L  <0.04    -0.04             1.0                  6.698472  \n",
       "135      mg/L  <0.04    -0.04             1.0                  6.698472  \n",
       "155      mg/L  <0.04    -0.04             1.0                  6.698472  \n",
       "159      mg/L  <0.04    -0.04             1.0                  6.698472  \n",
       "351      mg/L   0.02     0.02             1.0                  3.484433  "
      ]
     },
     "execution_count": 85,
     "metadata": {},
     "output_type": "execute_result"
    }
   ],
   "source": [
    "print('Nitrogen South Coastal Mean Distance', NitrogenAllSouthCoastal['closest_farm_distance_km'].mean())\n",
    "print('Nitrogen Shawsheen Mean Distance', NitrogenAllShaw['closest_farm_distance_km'].mean())\n",
    "print('Nitrogen Charles Mean Distance', NitrogenAllCharles['closest_farm_distance_km'].mean())\n",
    "print('Nitrogen Neponset Mean Distance', NitrogenAllNep['closest_farm_distance_km'].mean())\n",
    "\n",
    "print('Ammonia South Coastal Mean Distance', AmmoniaAllSouthCoastal['closest_farm_distance_km'].mean())\n",
    "print('Ammonia Shawsheen Mean Distance', AmmoniaAllShaw['closest_farm_distance_km'].mean())\n",
    "print('Ammonia Charles Mean Distance', AmmoniaAllCharles['closest_farm_distance_km'].mean())\n",
    "print('Ammonia Neponset Mean Distance', AmmoniaAllNep['closest_farm_distance_km'].mean())\n",
    "\n"
   ]
  },
  {
   "attachments": {},
   "cell_type": "markdown",
   "metadata": {},
   "source": [
    "Here I've determined that the Neponset watershed has the smallest mean distance to the urban farms in our database."
   ]
  }
 ],
 "metadata": {
  "kernelspec": {
   "display_name": "base",
   "language": "python",
   "name": "python3"
  },
  "language_info": {
   "codemirror_mode": {
    "name": "ipython",
    "version": 3
   },
   "file_extension": ".py",
   "mimetype": "text/x-python",
   "name": "python",
   "nbconvert_exporter": "python",
   "pygments_lexer": "ipython3",
   "version": "3.9.13"
  },
  "orig_nbformat": 4
 },
 "nbformat": 4,
 "nbformat_minor": 2
}
