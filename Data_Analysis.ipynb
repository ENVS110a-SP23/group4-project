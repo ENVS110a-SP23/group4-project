{
 "cells": [
  {
   "cell_type": "code",
   "execution_count": 2,
   "metadata": {},
   "outputs": [
    {
     "data": {
      "text/html": [
       "<div>\n",
       "<style scoped>\n",
       "    .dataframe tbody tr th:only-of-type {\n",
       "        vertical-align: middle;\n",
       "    }\n",
       "\n",
       "    .dataframe tbody tr th {\n",
       "        vertical-align: top;\n",
       "    }\n",
       "\n",
       "    .dataframe thead th {\n",
       "        text-align: right;\n",
       "    }\n",
       "</style>\n",
       "<table border=\"1\" class=\"dataframe\">\n",
       "  <thead>\n",
       "    <tr style=\"text-align: right;\">\n",
       "      <th></th>\n",
       "      <th>Watershed</th>\n",
       "      <th>Latitude</th>\n",
       "      <th>Longitude</th>\n",
       "      <th>StartDate</th>\n",
       "      <th>StartTime</th>\n",
       "      <th>DWM_Name</th>\n",
       "      <th>DWM_Units</th>\n",
       "      <th>ResVal</th>\n",
       "      <th>nResult</th>\n",
       "    </tr>\n",
       "  </thead>\n",
       "  <tbody>\n",
       "    <tr>\n",
       "      <th>0</th>\n",
       "      <td>South Coastal</td>\n",
       "      <td>42.160283</td>\n",
       "      <td>-70.788634</td>\n",
       "      <td>6/25/2019</td>\n",
       "      <td>1:10:00 PM</td>\n",
       "      <td>Ammonia-N</td>\n",
       "      <td>mg/L</td>\n",
       "      <td>&lt;0.20</td>\n",
       "      <td>-0.200</td>\n",
       "    </tr>\n",
       "    <tr>\n",
       "      <th>1</th>\n",
       "      <td>South Coastal</td>\n",
       "      <td>42.160283</td>\n",
       "      <td>-70.788634</td>\n",
       "      <td>6/25/2019</td>\n",
       "      <td>1:10:00 PM</td>\n",
       "      <td>Nitrate/Nitrite-N</td>\n",
       "      <td>mg/L</td>\n",
       "      <td>&lt;0.20</td>\n",
       "      <td>-0.200</td>\n",
       "    </tr>\n",
       "    <tr>\n",
       "      <th>2</th>\n",
       "      <td>South Coastal</td>\n",
       "      <td>42.160283</td>\n",
       "      <td>-70.788634</td>\n",
       "      <td>6/25/2019</td>\n",
       "      <td>1:10:00 PM</td>\n",
       "      <td>Total Nitrogen</td>\n",
       "      <td>mg/L</td>\n",
       "      <td>0.77</td>\n",
       "      <td>0.770</td>\n",
       "    </tr>\n",
       "    <tr>\n",
       "      <th>3</th>\n",
       "      <td>South Coastal</td>\n",
       "      <td>42.160283</td>\n",
       "      <td>-70.788634</td>\n",
       "      <td>6/25/2019</td>\n",
       "      <td>1:10:00 PM</td>\n",
       "      <td>Total Phosphorus</td>\n",
       "      <td>mg/L</td>\n",
       "      <td>0.056</td>\n",
       "      <td>0.056</td>\n",
       "    </tr>\n",
       "    <tr>\n",
       "      <th>4</th>\n",
       "      <td>South Coastal</td>\n",
       "      <td>42.187649</td>\n",
       "      <td>-70.768508</td>\n",
       "      <td>6/25/2019</td>\n",
       "      <td>1:50:00 PM</td>\n",
       "      <td>Ammonia-N</td>\n",
       "      <td>mg/L</td>\n",
       "      <td>&lt;0.20</td>\n",
       "      <td>-0.200</td>\n",
       "    </tr>\n",
       "  </tbody>\n",
       "</table>\n",
       "</div>"
      ],
      "text/plain": [
       "       Watershed   Latitude  Longitude  StartDate   StartTime  \\\n",
       "0  South Coastal  42.160283 -70.788634  6/25/2019  1:10:00 PM   \n",
       "1  South Coastal  42.160283 -70.788634  6/25/2019  1:10:00 PM   \n",
       "2  South Coastal  42.160283 -70.788634  6/25/2019  1:10:00 PM   \n",
       "3  South Coastal  42.160283 -70.788634  6/25/2019  1:10:00 PM   \n",
       "4  South Coastal  42.187649 -70.768508  6/25/2019  1:50:00 PM   \n",
       "\n",
       "            DWM_Name DWM_Units ResVal  nResult  \n",
       "0          Ammonia-N      mg/L  <0.20   -0.200  \n",
       "1  Nitrate/Nitrite-N      mg/L  <0.20   -0.200  \n",
       "2     Total Nitrogen      mg/L   0.77    0.770  \n",
       "3   Total Phosphorus      mg/L  0.056    0.056  \n",
       "4          Ammonia-N      mg/L  <0.20   -0.200  "
      ]
     },
     "execution_count": 2,
     "metadata": {},
     "output_type": "execute_result"
    }
   ],
   "source": [
    "import pandas as pd\n",
    "import matplotlib.pyplot as plt\n",
    "import numpy as np\n",
    "import scipy.stats as stats\n",
    "\n",
    "df = pd.read_excel('/Users/gretchenwang/Github/group4-project/Cleaned_Data.xlsx')\n",
    "df.head()"
   ]
  },
  {
   "cell_type": "code",
   "execution_count": 3,
   "metadata": {},
   "outputs": [],
   "source": [
    "df_copy= df.copy()\n",
    "\n",
    "df_copy['StartDate'] = pd.to_datetime(df_copy['StartDate'], format='%m/%d/%Y')"
   ]
  },
  {
   "attachments": {},
   "cell_type": "markdown",
   "metadata": {},
   "source": [
    "Nitrogen:\n",
    "\n",
    "I used the nitrogen subsets made by Liam in \"Revisualization\" and ran them as a two-sample t-test. With a pval of 0.005 that's smaller than any reasonable signifcance level, it seems that nitrogen levels pre-2013 are significantly greater than nitrogen levels post_2013. However, this doesn't account for regional differences or distance from farms. "
   ]
  },
  {
   "cell_type": "code",
   "execution_count": 7,
   "metadata": {},
   "outputs": [
    {
     "data": {
      "text/plain": [
       "Ttest_indResult(statistic=2.7338781929763725, pvalue=0.0032209507158798482)"
      ]
     },
     "execution_count": 7,
     "metadata": {},
     "output_type": "execute_result"
    }
   ],
   "source": [
    "nitrogen_pre2013_df = df_copy.loc[(df_copy['StartDate'].dt.year<2013) & (df_copy['DWM_Name'] == 'Total Nitrogen')]\n",
    "nitrogen_post2013_df = df_copy.loc[(df_copy['StartDate'].dt.year>=2013) & (df_copy['DWM_Name'] == 'Total Nitrogen')]\n",
    "\n",
    "stats.ttest_ind(nitrogen_pre2013_df['nResult'], nitrogen_post2013_df['nResult'], alternative='greater')"
   ]
  },
  {
   "attachments": {},
   "cell_type": "markdown",
   "metadata": {},
   "source": [
    "Ammonia:\n",
    "\n",
    "I did the same for ammonia, which shows a pval of 0.1, demonstrating that ammonia levels pre-2013 were not necessarily greater than post-2013. "
   ]
  },
  {
   "cell_type": "code",
   "execution_count": 8,
   "metadata": {},
   "outputs": [
    {
     "data": {
      "text/plain": [
       "Ttest_indResult(statistic=1.2776985236750187, pvalue=0.10096625344493837)"
      ]
     },
     "execution_count": 8,
     "metadata": {},
     "output_type": "execute_result"
    }
   ],
   "source": [
    "ammonia_pre2013_df = df_copy.loc[(df_copy['StartDate'].dt.year<2013) & (df_copy['DWM_Name'] == 'Ammonia-N')]\n",
    "ammonia_post2013_df = df_copy.loc[(df_copy['StartDate'].dt.year>=2013) & (df_copy['DWM_Name'] == 'Ammonia-N')]\n",
    "\n",
    "stats.ttest_ind(ammonia_pre2013_df['nResult'], ammonia_post2013_df['nResult'], alternative='greater')"
   ]
  },
  {
   "attachments": {},
   "cell_type": "markdown",
   "metadata": {},
   "source": [
    "Phosphorus:\n",
    "\n",
    "Phosphorus is more similar to Nitrogen, showing a pval of 0.003 and demonstrating significance."
   ]
  },
  {
   "cell_type": "code",
   "execution_count": 9,
   "metadata": {},
   "outputs": [
    {
     "data": {
      "text/plain": [
       "Ttest_indResult(statistic=2.733644704011147, pvalue=0.003222905193486799)"
      ]
     },
     "execution_count": 9,
     "metadata": {},
     "output_type": "execute_result"
    }
   ],
   "source": [
    "phosphorus_pre2013_df = df_copy.loc[(df_copy['StartDate'].dt.year<2013) & (df_copy['DWM_Name'] == 'Total Phosphorus')]\n",
    "phosphorus_post2013_df = df_copy.loc[(df_copy['StartDate'].dt.year>=2013) & (df_copy['DWM_Name'] == 'Total Phosphorus')]\n",
    "\n",
    "stats.ttest_ind(phosphorus_pre2013_df['nResult'], phosphorus_post2013_df['nResult'], alternative='greater')"
   ]
  },
  {
   "attachments": {},
   "cell_type": "markdown",
   "metadata": {},
   "source": [
    "Nitrate/Nitrite:\n",
    "\n",
    "These two show an even lower pval than the others, demonstrating more certain significance. "
   ]
  },
  {
   "cell_type": "code",
   "execution_count": 10,
   "metadata": {},
   "outputs": [
    {
     "data": {
      "text/plain": [
       "Ttest_indResult(statistic=3.402320058875278, pvalue=0.00038917631025685225)"
      ]
     },
     "execution_count": 10,
     "metadata": {},
     "output_type": "execute_result"
    }
   ],
   "source": [
    "nitrate_pre2013_df = df_copy.loc[(df_copy['StartDate'].dt.year<2013) & (df_copy['DWM_Name'] == 'Nitrate/Nitrite-N')]\n",
    "nitrate_post2013_df = df_copy.loc[(df_copy['StartDate'].dt.year>=2013) & (df_copy['DWM_Name'] == 'Nitrate/Nitrite-N')]\n",
    "\n",
    "stats.ttest_ind(nitrate_pre2013_df['nResult'], nitrate_post2013_df['nResult'], alternative='greater')"
   ]
  }
 ],
 "metadata": {
  "kernelspec": {
   "display_name": "base",
   "language": "python",
   "name": "python3"
  },
  "language_info": {
   "codemirror_mode": {
    "name": "ipython",
    "version": 3
   },
   "file_extension": ".py",
   "mimetype": "text/x-python",
   "name": "python",
   "nbconvert_exporter": "python",
   "pygments_lexer": "ipython3",
   "version": "3.9.13"
  },
  "orig_nbformat": 4
 },
 "nbformat": 4,
 "nbformat_minor": 2
}
