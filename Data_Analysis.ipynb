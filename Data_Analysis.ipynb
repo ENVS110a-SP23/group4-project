{
 "cells": [
  {
   "cell_type": "code",
   "execution_count": 2,
   "metadata": {},
   "outputs": [
    {
     "data": {
      "text/html": [
       "<div>\n",
       "<style scoped>\n",
       "    .dataframe tbody tr th:only-of-type {\n",
       "        vertical-align: middle;\n",
       "    }\n",
       "\n",
       "    .dataframe tbody tr th {\n",
       "        vertical-align: top;\n",
       "    }\n",
       "\n",
       "    .dataframe thead th {\n",
       "        text-align: right;\n",
       "    }\n",
       "</style>\n",
       "<table border=\"1\" class=\"dataframe\">\n",
       "  <thead>\n",
       "    <tr style=\"text-align: right;\">\n",
       "      <th></th>\n",
       "      <th>Watershed</th>\n",
       "      <th>Latitude</th>\n",
       "      <th>Longitude</th>\n",
       "      <th>StartDate</th>\n",
       "      <th>StartTime</th>\n",
       "      <th>DWM_Name</th>\n",
       "      <th>DWM_Units</th>\n",
       "      <th>ResVal</th>\n",
       "      <th>nResult</th>\n",
       "    </tr>\n",
       "  </thead>\n",
       "  <tbody>\n",
       "    <tr>\n",
       "      <th>0</th>\n",
       "      <td>South Coastal</td>\n",
       "      <td>42.160283</td>\n",
       "      <td>-70.788634</td>\n",
       "      <td>6/25/2019</td>\n",
       "      <td>1:10:00 PM</td>\n",
       "      <td>Ammonia-N</td>\n",
       "      <td>mg/L</td>\n",
       "      <td>&lt;0.20</td>\n",
       "      <td>-0.200</td>\n",
       "    </tr>\n",
       "    <tr>\n",
       "      <th>1</th>\n",
       "      <td>South Coastal</td>\n",
       "      <td>42.160283</td>\n",
       "      <td>-70.788634</td>\n",
       "      <td>6/25/2019</td>\n",
       "      <td>1:10:00 PM</td>\n",
       "      <td>Nitrate/Nitrite-N</td>\n",
       "      <td>mg/L</td>\n",
       "      <td>&lt;0.20</td>\n",
       "      <td>-0.200</td>\n",
       "    </tr>\n",
       "    <tr>\n",
       "      <th>2</th>\n",
       "      <td>South Coastal</td>\n",
       "      <td>42.160283</td>\n",
       "      <td>-70.788634</td>\n",
       "      <td>6/25/2019</td>\n",
       "      <td>1:10:00 PM</td>\n",
       "      <td>Total Nitrogen</td>\n",
       "      <td>mg/L</td>\n",
       "      <td>0.77</td>\n",
       "      <td>0.770</td>\n",
       "    </tr>\n",
       "    <tr>\n",
       "      <th>3</th>\n",
       "      <td>South Coastal</td>\n",
       "      <td>42.160283</td>\n",
       "      <td>-70.788634</td>\n",
       "      <td>6/25/2019</td>\n",
       "      <td>1:10:00 PM</td>\n",
       "      <td>Total Phosphorus</td>\n",
       "      <td>mg/L</td>\n",
       "      <td>0.056</td>\n",
       "      <td>0.056</td>\n",
       "    </tr>\n",
       "    <tr>\n",
       "      <th>4</th>\n",
       "      <td>South Coastal</td>\n",
       "      <td>42.187649</td>\n",
       "      <td>-70.768508</td>\n",
       "      <td>6/25/2019</td>\n",
       "      <td>1:50:00 PM</td>\n",
       "      <td>Ammonia-N</td>\n",
       "      <td>mg/L</td>\n",
       "      <td>&lt;0.20</td>\n",
       "      <td>-0.200</td>\n",
       "    </tr>\n",
       "  </tbody>\n",
       "</table>\n",
       "</div>"
      ],
      "text/plain": [
       "       Watershed   Latitude  Longitude  StartDate   StartTime  \\\n",
       "0  South Coastal  42.160283 -70.788634  6/25/2019  1:10:00 PM   \n",
       "1  South Coastal  42.160283 -70.788634  6/25/2019  1:10:00 PM   \n",
       "2  South Coastal  42.160283 -70.788634  6/25/2019  1:10:00 PM   \n",
       "3  South Coastal  42.160283 -70.788634  6/25/2019  1:10:00 PM   \n",
       "4  South Coastal  42.187649 -70.768508  6/25/2019  1:50:00 PM   \n",
       "\n",
       "            DWM_Name DWM_Units ResVal  nResult  \n",
       "0          Ammonia-N      mg/L  <0.20   -0.200  \n",
       "1  Nitrate/Nitrite-N      mg/L  <0.20   -0.200  \n",
       "2     Total Nitrogen      mg/L   0.77    0.770  \n",
       "3   Total Phosphorus      mg/L  0.056    0.056  \n",
       "4          Ammonia-N      mg/L  <0.20   -0.200  "
      ]
     },
     "execution_count": 2,
     "metadata": {},
     "output_type": "execute_result"
    }
   ],
   "source": [
    "import pandas as pd\n",
    "import matplotlib.pyplot as plt\n",
    "import numpy as np\n",
    "import scipy.stats as stats\n",
    "\n",
    "df = pd.read_excel('/Users/gretchenwang/Github/group4-project/Cleaned_Data.xlsx')\n",
    "df.head()"
   ]
  },
  {
   "cell_type": "code",
   "execution_count": 3,
   "metadata": {},
   "outputs": [],
   "source": [
    "df_copy= df.copy()\n",
    "\n",
    "df_copy['StartDate'] = pd.to_datetime(df_copy['StartDate'], format='%m/%d/%Y')"
   ]
  },
  {
   "attachments": {},
   "cell_type": "markdown",
   "metadata": {},
   "source": [
    "**Nitrogen:**\n",
    "\n",
    "I used the nitrogen subsets made by Liam in \"Revisualization\" and ran them as a two-sample t-test. With a pval of 0.005 that's smaller than any reasonable signifcance level, it seems that nitrogen levels pre-2013 are significantly greater than nitrogen levels post_2013. However, this doesn't account for regional differences or distance from farms. "
   ]
  },
  {
   "cell_type": "code",
   "execution_count": 21,
   "metadata": {},
   "outputs": [
    {
     "data": {
      "text/plain": [
       "Ttest_indResult(statistic=2.7338781929763725, pvalue=0.0064419014317596964)"
      ]
     },
     "execution_count": 21,
     "metadata": {},
     "output_type": "execute_result"
    }
   ],
   "source": [
    "nitrogen_pre2013_df = df_copy.loc[(df_copy['StartDate'].dt.year<2013) & (df_copy['DWM_Name'] == 'Total Nitrogen')]\n",
    "nitrogen_post2013_df = df_copy.loc[(df_copy['StartDate'].dt.year>=2013) & (df_copy['DWM_Name'] == 'Total Nitrogen')]\n",
    "\n",
    "stats.ttest_ind(nitrogen_pre2013_df['nResult'], nitrogen_post2013_df['nResult'], alternative='two-sided')"
   ]
  },
  {
   "attachments": {},
   "cell_type": "markdown",
   "metadata": {},
   "source": [
    "Next, I ran t-tests for each individual watershed to account for regional differences. Referring back to the map created in check-in 4, there are some watersheds located further away from Boston, while some pass through the heart of Boston, so I would expect to see some differences in significance of pre- and post-2013 data differences.  "
   ]
  },
  {
   "cell_type": "code",
   "execution_count": 13,
   "metadata": {},
   "outputs": [],
   "source": [
    "GPreSouth = nitrogen_pre2013_df.loc[nitrogen_pre2013_df['Watershed'] == 'South Coastal']\n",
    "GPreshaw = nitrogen_pre2013_df.loc[nitrogen_pre2013_df['Watershed'] == 'Shawsheen']\n",
    "GPrenep = nitrogen_pre2013_df.loc[nitrogen_pre2013_df['Watershed'] == 'Neponset']\n",
    "GPrecharles = nitrogen_pre2013_df.loc[nitrogen_pre2013_df['Watershed'] == 'Charles']\n",
    "\n",
    "GPostSouth = nitrogen_post2013_df.loc[nitrogen_post2013_df['Watershed'] == 'South Coastal']\n",
    "GPostshaw = nitrogen_post2013_df.loc[nitrogen_post2013_df['Watershed'] == 'Shawsheen']\n",
    "GPostnep = nitrogen_post2013_df.loc[nitrogen_post2013_df['Watershed'] == 'Neponset']\n",
    "GPostcharles = nitrogen_post2013_df.loc[nitrogen_post2013_df['Watershed'] == 'Charles']"
   ]
  },
  {
   "attachments": {},
   "cell_type": "markdown",
   "metadata": {},
   "source": [
    "South Coastal:"
   ]
  },
  {
   "cell_type": "code",
   "execution_count": 14,
   "metadata": {},
   "outputs": [
    {
     "data": {
      "text/plain": [
       "Ttest_indResult(statistic=2.2223825974718316, pvalue=0.027418631301931822)"
      ]
     },
     "execution_count": 14,
     "metadata": {},
     "output_type": "execute_result"
    }
   ],
   "source": [
    "stats.ttest_ind(GPreSouth['nResult'], GPostSouth['nResult'], alternative='two-sided')"
   ]
  },
  {
   "attachments": {},
   "cell_type": "markdown",
   "metadata": {},
   "source": [
    "Shawsheen:"
   ]
  },
  {
   "cell_type": "code",
   "execution_count": 15,
   "metadata": {},
   "outputs": [
    {
     "data": {
      "text/plain": [
       "Ttest_indResult(statistic=1.6796379031154025, pvalue=0.09653510203234185)"
      ]
     },
     "execution_count": 15,
     "metadata": {},
     "output_type": "execute_result"
    }
   ],
   "source": [
    "stats.ttest_ind(GPreshaw['nResult'], GPostshaw['nResult'], alternative='two-sided')"
   ]
  },
  {
   "attachments": {},
   "cell_type": "markdown",
   "metadata": {},
   "source": [
    "Neponset: "
   ]
  },
  {
   "cell_type": "code",
   "execution_count": 16,
   "metadata": {},
   "outputs": [
    {
     "data": {
      "text/plain": [
       "Ttest_indResult(statistic=2.7812732926419597, pvalue=0.006390687830296602)"
      ]
     },
     "execution_count": 16,
     "metadata": {},
     "output_type": "execute_result"
    }
   ],
   "source": [
    "stats.ttest_ind(GPrenep['nResult'], GPostnep['nResult'], alternative='two-sided')"
   ]
  },
  {
   "attachments": {},
   "cell_type": "markdown",
   "metadata": {},
   "source": [
    "Charles:"
   ]
  },
  {
   "cell_type": "code",
   "execution_count": 17,
   "metadata": {},
   "outputs": [
    {
     "data": {
      "text/plain": [
       "Ttest_indResult(statistic=0.5252952662933288, pvalue=0.5999294962869886)"
      ]
     },
     "execution_count": 17,
     "metadata": {},
     "output_type": "execute_result"
    }
   ],
   "source": [
    "stats.ttest_ind(GPrecharles['nResult'], GPostcharles['nResult'], alternative='two-sided')"
   ]
  },
  {
   "attachments": {},
   "cell_type": "markdown",
   "metadata": {},
   "source": [
    "**Ammonia:**\n",
    "\n",
    "I did the same for ammonia, which shows a pval of 0.1, demonstrating that ammonia levels pre-2013 were not necessarily greater than post-2013. "
   ]
  },
  {
   "cell_type": "code",
   "execution_count": 28,
   "metadata": {},
   "outputs": [
    {
     "data": {
      "text/plain": [
       "Ttest_indResult(statistic=1.2776985236750187, pvalue=0.20193250688987674)"
      ]
     },
     "execution_count": 28,
     "metadata": {},
     "output_type": "execute_result"
    }
   ],
   "source": [
    "ammonia_pre2013_df = df_copy.loc[(df_copy['StartDate'].dt.year<2013) & (df_copy['DWM_Name'] == 'Ammonia-N')]\n",
    "ammonia_post2013_df = df_copy.loc[(df_copy['StartDate'].dt.year>=2013) & (df_copy['DWM_Name'] == 'Ammonia-N')]\n",
    "\n",
    "stats.ttest_ind(ammonia_pre2013_df['nResult'], ammonia_post2013_df['nResult'], alternative='two-sided')"
   ]
  },
  {
   "attachments": {},
   "cell_type": "markdown",
   "metadata": {},
   "source": [
    "I then ran t-tests by region for Ammonia too."
   ]
  },
  {
   "cell_type": "code",
   "execution_count": 22,
   "metadata": {},
   "outputs": [],
   "source": [
    "APreSouth = ammonia_pre2013_df.loc[ammonia_pre2013_df['Watershed'] == 'South Coastal']\n",
    "APreshaw = ammonia_pre2013_df.loc[ammonia_pre2013_df['Watershed'] == 'Shawsheen']\n",
    "APrenep = ammonia_pre2013_df.loc[ammonia_pre2013_df['Watershed'] == 'Neponset']\n",
    "APrecharles = ammonia_pre2013_df.loc[ammonia_pre2013_df['Watershed'] == 'Charles']\n",
    "\n",
    "APostSouth = ammonia_post2013_df.loc[ammonia_post2013_df['Watershed'] == 'South Coastal']\n",
    "APostshaw = ammonia_post2013_df.loc[ammonia_post2013_df['Watershed'] == 'Shawsheen']\n",
    "APostnep = ammonia_post2013_df.loc[ammonia_post2013_df['Watershed'] == 'Neponset']\n",
    "APostcharles = ammonia_post2013_df.loc[ammonia_post2013_df['Watershed'] == 'Charles']"
   ]
  },
  {
   "attachments": {},
   "cell_type": "markdown",
   "metadata": {},
   "source": [
    "South Coastal:"
   ]
  },
  {
   "cell_type": "code",
   "execution_count": 23,
   "metadata": {},
   "outputs": [
    {
     "data": {
      "text/plain": [
       "Ttest_indResult(statistic=3.5767445550824473, pvalue=0.0005239370574844963)"
      ]
     },
     "execution_count": 23,
     "metadata": {},
     "output_type": "execute_result"
    }
   ],
   "source": [
    "stats.ttest_ind(APreSouth['nResult'], APostSouth['nResult'], alternative='two-sided')"
   ]
  },
  {
   "attachments": {},
   "cell_type": "markdown",
   "metadata": {},
   "source": [
    "Shawsheen:"
   ]
  },
  {
   "cell_type": "code",
   "execution_count": 25,
   "metadata": {},
   "outputs": [
    {
     "data": {
      "text/plain": [
       "Ttest_indResult(statistic=2.284088498789362, pvalue=0.024718676015365024)"
      ]
     },
     "execution_count": 25,
     "metadata": {},
     "output_type": "execute_result"
    }
   ],
   "source": [
    "stats.ttest_ind(APreshaw['nResult'], APostshaw['nResult'], alternative='two-sided')"
   ]
  },
  {
   "attachments": {},
   "cell_type": "markdown",
   "metadata": {},
   "source": [
    "Neponset:"
   ]
  },
  {
   "cell_type": "code",
   "execution_count": 26,
   "metadata": {},
   "outputs": [
    {
     "data": {
      "text/plain": [
       "Ttest_indResult(statistic=1.7835758368450834, pvalue=0.07738164630316936)"
      ]
     },
     "execution_count": 26,
     "metadata": {},
     "output_type": "execute_result"
    }
   ],
   "source": [
    "stats.ttest_ind(APrenep['nResult'], APostnep['nResult'], alternative='two-sided')"
   ]
  },
  {
   "attachments": {},
   "cell_type": "markdown",
   "metadata": {},
   "source": [
    "Charles:"
   ]
  },
  {
   "cell_type": "code",
   "execution_count": 27,
   "metadata": {},
   "outputs": [
    {
     "data": {
      "text/plain": [
       "Ttest_indResult(statistic=-1.7345167742714582, pvalue=0.08432225605159661)"
      ]
     },
     "execution_count": 27,
     "metadata": {},
     "output_type": "execute_result"
    }
   ],
   "source": [
    "stats.ttest_ind(APrecharles['nResult'], APostcharles['nResult'], alternative='two-sided')"
   ]
  },
  {
   "attachments": {},
   "cell_type": "markdown",
   "metadata": {},
   "source": [
    "Interestingly, when run individually, South Coastal and Shawsheen show significant difference between the pre- and post-2013, while Neponset and Charles show no significant difference like our original results."
   ]
  },
  {
   "attachments": {},
   "cell_type": "markdown",
   "metadata": {},
   "source": [
    "**Phosphorus:**\n",
    "\n",
    "Phosphorus is more similar to Nitrogen, showing a pval of 0.003 and demonstrating significance."
   ]
  },
  {
   "cell_type": "code",
   "execution_count": 19,
   "metadata": {},
   "outputs": [
    {
     "data": {
      "text/plain": [
       "Ttest_indResult(statistic=2.733644704011147, pvalue=0.006445810386973598)"
      ]
     },
     "execution_count": 19,
     "metadata": {},
     "output_type": "execute_result"
    }
   ],
   "source": [
    "phosphorus_pre2013_df = df_copy.loc[(df_copy['StartDate'].dt.year<2013) & (df_copy['DWM_Name'] == 'Total Phosphorus')]\n",
    "phosphorus_post2013_df = df_copy.loc[(df_copy['StartDate'].dt.year>=2013) & (df_copy['DWM_Name'] == 'Total Phosphorus')]\n",
    "\n",
    "stats.ttest_ind(phosphorus_pre2013_df['nResult'], phosphorus_post2013_df['nResult'], alternative='two-sided')"
   ]
  },
  {
   "attachments": {},
   "cell_type": "markdown",
   "metadata": {},
   "source": [
    "Once again, I run t-tests for each individual watershed."
   ]
  },
  {
   "cell_type": "code",
   "execution_count": 29,
   "metadata": {},
   "outputs": [],
   "source": [
    "PPreSouth = phosphorus_pre2013_df.loc[phosphorus_pre2013_df['Watershed'] == 'South Coastal']\n",
    "PPreshaw = phosphorus_pre2013_df.loc[phosphorus_pre2013_df['Watershed'] == 'Shawsheen']\n",
    "PPrenep = phosphorus_pre2013_df.loc[phosphorus_pre2013_df['Watershed'] == 'Neponset']\n",
    "PPrecharles = phosphorus_pre2013_df.loc[phosphorus_pre2013_df['Watershed'] == 'Charles']\n",
    "\n",
    "PPostSouth = phosphorus_post2013_df.loc[phosphorus_post2013_df['Watershed'] == 'South Coastal']\n",
    "PPostshaw = phosphorus_post2013_df.loc[phosphorus_post2013_df['Watershed'] == 'Shawsheen']\n",
    "PPostnep = phosphorus_post2013_df.loc[phosphorus_post2013_df['Watershed'] == 'Neponset']\n",
    "PPostcharles = phosphorus_post2013_df.loc[phosphorus_post2013_df['Watershed'] == 'Charles']"
   ]
  },
  {
   "attachments": {},
   "cell_type": "markdown",
   "metadata": {},
   "source": [
    "South Coastal:"
   ]
  },
  {
   "cell_type": "code",
   "execution_count": 30,
   "metadata": {},
   "outputs": [
    {
     "data": {
      "text/plain": [
       "Ttest_indResult(statistic=2.7662846457675205, pvalue=0.006248491333998326)"
      ]
     },
     "execution_count": 30,
     "metadata": {},
     "output_type": "execute_result"
    }
   ],
   "source": [
    "stats.ttest_ind(PPreSouth['nResult'], PPostSouth['nResult'], alternative='two-sided')"
   ]
  },
  {
   "attachments": {},
   "cell_type": "markdown",
   "metadata": {},
   "source": [
    "Shawsheen:"
   ]
  },
  {
   "cell_type": "code",
   "execution_count": 31,
   "metadata": {},
   "outputs": [
    {
     "data": {
      "text/plain": [
       "Ttest_indResult(statistic=0.3580838003027788, pvalue=0.7211284977971077)"
      ]
     },
     "execution_count": 31,
     "metadata": {},
     "output_type": "execute_result"
    }
   ],
   "source": [
    "stats.ttest_ind(PPreshaw['nResult'], PPostshaw['nResult'], alternative='two-sided')"
   ]
  },
  {
   "attachments": {},
   "cell_type": "markdown",
   "metadata": {},
   "source": [
    "Neponset:"
   ]
  },
  {
   "cell_type": "code",
   "execution_count": 32,
   "metadata": {},
   "outputs": [
    {
     "data": {
      "text/plain": [
       "Ttest_indResult(statistic=1.6924030282030538, pvalue=0.09327684838282967)"
      ]
     },
     "execution_count": 32,
     "metadata": {},
     "output_type": "execute_result"
    }
   ],
   "source": [
    "stats.ttest_ind(PPrenep['nResult'], PPostnep['nResult'], alternative='two-sided')"
   ]
  },
  {
   "attachments": {},
   "cell_type": "markdown",
   "metadata": {},
   "source": [
    "Charles:"
   ]
  },
  {
   "cell_type": "code",
   "execution_count": 34,
   "metadata": {},
   "outputs": [
    {
     "data": {
      "text/plain": [
       "Ttest_indResult(statistic=1.7425866048966383, pvalue=0.08283567330443037)"
      ]
     },
     "execution_count": 34,
     "metadata": {},
     "output_type": "execute_result"
    }
   ],
   "source": [
    "stats.ttest_ind(PPrecharles['nResult'], PPostcharles['nResult'], alternative='two-sided')"
   ]
  },
  {
   "attachments": {},
   "cell_type": "markdown",
   "metadata": {},
   "source": [
    "**Nitrate/Nitrite:**\n",
    "\n",
    "These two show an even lower pval than the others, demonstrating more certain significance. "
   ]
  },
  {
   "cell_type": "code",
   "execution_count": 18,
   "metadata": {},
   "outputs": [
    {
     "data": {
      "text/plain": [
       "Ttest_indResult(statistic=3.402320058875278, pvalue=0.0007783526205137045)"
      ]
     },
     "execution_count": 18,
     "metadata": {},
     "output_type": "execute_result"
    }
   ],
   "source": [
    "nitrate_pre2013_df = df_copy.loc[(df_copy['StartDate'].dt.year<2013) & (df_copy['DWM_Name'] == 'Nitrate/Nitrite-N')]\n",
    "nitrate_post2013_df = df_copy.loc[(df_copy['StartDate'].dt.year>=2013) & (df_copy['DWM_Name'] == 'Nitrate/Nitrite-N')]\n",
    "\n",
    "stats.ttest_ind(nitrate_pre2013_df['nResult'], nitrate_post2013_df['nResult'], alternative='two-sided')\n"
   ]
  },
  {
   "attachments": {},
   "cell_type": "markdown",
   "metadata": {},
   "source": [
    "Once again, the t-tests for each watershed."
   ]
  },
  {
   "cell_type": "code",
   "execution_count": 35,
   "metadata": {},
   "outputs": [],
   "source": [
    "NPreSouth = nitrate_pre2013_df.loc[nitrate_pre2013_df['Watershed'] == 'South Coastal']\n",
    "NPreshaw = nitrate_pre2013_df.loc[nitrate_pre2013_df['Watershed'] == 'Shawsheen']\n",
    "NPrenep = nitrate_pre2013_df.loc[nitrate_pre2013_df['Watershed'] == 'Neponset']\n",
    "NPrecharles = nitrate_pre2013_df.loc[nitrate_pre2013_df['Watershed'] == 'Charles']\n",
    "\n",
    "NPostSouth = nitrate_post2013_df.loc[nitrate_post2013_df['Watershed'] == 'South Coastal']\n",
    "NPostshaw = nitrate_post2013_df.loc[nitrate_post2013_df['Watershed'] == 'Shawsheen']\n",
    "NPostnep = nitrate_post2013_df.loc[nitrate_post2013_df['Watershed'] == 'Neponset']\n",
    "NPostcharles = nitrate_post2013_df.loc[nitrate_post2013_df['Watershed'] == 'Charles']"
   ]
  },
  {
   "attachments": {},
   "cell_type": "markdown",
   "metadata": {},
   "source": [
    "South Coastal:"
   ]
  },
  {
   "cell_type": "code",
   "execution_count": 39,
   "metadata": {},
   "outputs": [
    {
     "data": {
      "text/plain": [
       "Ttest_indResult(statistic=1.7899843202123182, pvalue=0.0814274868439968)"
      ]
     },
     "execution_count": 39,
     "metadata": {},
     "output_type": "execute_result"
    }
   ],
   "source": [
    "stats.ttest_ind(NPreSouth['nResult'], NPostSouth['nResult'], alternative='two-sided')"
   ]
  },
  {
   "attachments": {},
   "cell_type": "markdown",
   "metadata": {},
   "source": [
    "Shawsheen:"
   ]
  },
  {
   "cell_type": "code",
   "execution_count": 37,
   "metadata": {},
   "outputs": [
    {
     "data": {
      "text/plain": [
       "Ttest_indResult(statistic=nan, pvalue=nan)"
      ]
     },
     "execution_count": 37,
     "metadata": {},
     "output_type": "execute_result"
    }
   ],
   "source": [
    "stats.ttest_ind(NPreshaw['nResult'], NPostshaw['nResult'], alternative='two-sided')"
   ]
  },
  {
   "attachments": {},
   "cell_type": "markdown",
   "metadata": {},
   "source": [
    "Neponset:"
   ]
  },
  {
   "cell_type": "code",
   "execution_count": 38,
   "metadata": {},
   "outputs": [
    {
     "data": {
      "text/plain": [
       "Ttest_indResult(statistic=nan, pvalue=nan)"
      ]
     },
     "execution_count": 38,
     "metadata": {},
     "output_type": "execute_result"
    }
   ],
   "source": [
    "stats.ttest_ind(NPrenep['nResult'], NPostnep['nResult'], alternative='two-sided')"
   ]
  },
  {
   "attachments": {},
   "cell_type": "markdown",
   "metadata": {},
   "source": [
    "Charles:"
   ]
  },
  {
   "cell_type": "code",
   "execution_count": 36,
   "metadata": {},
   "outputs": [
    {
     "data": {
      "text/plain": [
       "Ttest_indResult(statistic=0.4527913909437512, pvalue=0.6512353126731127)"
      ]
     },
     "execution_count": 36,
     "metadata": {},
     "output_type": "execute_result"
    }
   ],
   "source": [
    "stats.ttest_ind(NPrecharles['nResult'], NPostcharles['nResult'], alternative='two-sided')"
   ]
  },
  {
   "attachments": {},
   "cell_type": "markdown",
   "metadata": {},
   "source": [
    "Nitrate/nitrite appears to have some missing data for the shawsheen and neponset watersheds. Otherwise, it seems like neither charles nor south coastal appear to show a significant difference, which is rather unusual compared to its original pvalue. Due to the missing data, however, we've decided to exclude nitrite/nitrate from our final analysis."
   ]
  },
  {
   "attachments": {},
   "cell_type": "markdown",
   "metadata": {},
   "source": [
    "# Conclusions"
   ]
  },
  {
   "attachments": {},
   "cell_type": "markdown",
   "metadata": {},
   "source": [
    "Based on a significance level of 0.05, the following nutrients show significant differences for the watersheds they're listed under: \n",
    "\n",
    "South Coastal:\n",
    "- Nitrogen\n",
    "- Ammonia\n",
    "- phosphorus\n",
    "\n",
    "Shawsheen:\n",
    "- Ammonia\n",
    "\n",
    "Neponset: \n",
    "- Nitrogen\n",
    "\n",
    "Charles: \n",
    "- None\n",
    "\n",
    "\n",
    "\n",
    "It appears as though South Coastal is the only one significantly affected in general. This may have to do with South Coastal's location, southeast of the Boston Metropolitan Area. Surprisingly, Charles, which seems to pass through the heart of the Boston Metropolitan Area, doesn't have a significant difference in any nutrient level. The Shawsheen and Neponset watersheds only show a significant difference in the level of in one of 3 nutrients, indicating that they're is probably not much meaningful difference between pre- and post-2013 nutrient levels overall. "
   ]
  }
 ],
 "metadata": {
  "kernelspec": {
   "display_name": "base",
   "language": "python",
   "name": "python3"
  },
  "language_info": {
   "codemirror_mode": {
    "name": "ipython",
    "version": 3
   },
   "file_extension": ".py",
   "mimetype": "text/x-python",
   "name": "python",
   "nbconvert_exporter": "python",
   "pygments_lexer": "ipython3",
   "version": "3.9.13"
  },
  "orig_nbformat": 4
 },
 "nbformat": 4,
 "nbformat_minor": 2
}
